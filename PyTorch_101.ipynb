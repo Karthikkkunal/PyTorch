{
 "cells": [
  {
   "cell_type": "markdown",
   "metadata": {
    "id": "qzL-3HgOAaLL"
   },
   "source": [
    "![Pytorch](https://miro.medium.com/max/1024/1*KKADWARPMxHb-WMxCgW_xA.png)\n",
    "# Pytorch\n",
    "\n",
    "An open source machine learning framework that accelerates the path from research prototyping to production deployment.\n",
    "\n",
    "It is a deep learning framework and a scientific computing package.\n",
    "\n",
    "It has several components that you'd like to be aware of (from future perspective):\n",
    "* PyTorch is production ready. With **torchScript**, PyTorch provides ease-of-use and flexiblility in _eager_ mode, while seamlessly  transitioning to graph mode for speed, optimization, and functionality in C++ runtime environments.\n",
    "* **TorchServe** is an easy to use tool for deploying PyTorch models at scale. It is cloud and environment agnostic and supports features such as multi-model serving, logging, metrics and the creation of RESTful endpoints for application integration.\n",
    "* Optimized performance in both research and production by taking advantage of native support for asynchronous execution of collective operations and peer-to-peer communication that is accessible from Python and C++.\n",
    "* PyTorch supports an end-to-end workflow from Python to deployment on iOS and Android. It extends the PyTorch API to cover common preprocessing and integration tasks needed for incorporating ML in mobile applications.\n",
    "* An active community of researchers and developers have built a rich ecosystem of tools and libraries for extending PyTorch and supporting development in areas from computer vision to reinforcement learning.\n",
    "* Export models in the standard **ONNX** (Open Neural Network Exchange) format for direct access to ONNX-compatible platforms, runtimes, visualizers, and more.\n",
    "* The C++ frontend is a pure C++ interface to PyTorch that follows the design and architecture of the established Python frontend. It is intended to enable research in high performance, low latency and bare metal C++ applications.\n",
    "* PyTorch is well supported on major cloud platforms, providing frictionless development and easy scaling through prebuilt images, large scale training on GPUs, ability to run models in a production scale environment, and more.\n",
    "\n",
    "| **PyTorch**  | **TensorFlow**  |\n",
    "|---|---|\n",
    "| Dynamic Computation Graphs  | Had to integrate Keras to add Dynamic Graphs, else static graphs  |\n",
    "| Have explicit GPU and CPU controls  | 2.0 has made this slighyl easy compared to earlier  |\n",
    "| More Pythonic in nature  | Steep learning curve  |\n",
    "| Good Documentation | Best possible documentation |\n",
    "| External tool for visualization and logging | TensorBoard |\n",
    "| Lighter to work with | Large deployment dependencies |\n",
    "| _Debugging is difficult_ | _Better debugging capabilities_ |\n",
    "\n",
    "\n",
    "![comparison](https://www.assemblyai.com/blog/content/images/2023/01/num_hf_models_2023.png)\n",
    "\n",
    "![headtohead](https://viso.ai/wp-content/uploads/2023/02/pytorch-vs-tensorflow-popularity-comparison.png)\n",
    "\n",
    "\n"
   ]
  },
  {
   "cell_type": "markdown",
   "metadata": {
    "id": "sZBk2L4BEZJM"
   },
   "source": [
    "## Scientific Computing\n",
    "\n",
    "The scientific computing aspect of PyTorch is primarily a result of PyTorch's tensor Library and associated tensor operations\n",
    "\n",
    "A tensor is an n-dimensional array.\n",
    "\n",
    "![tensor](https://res.cloudinary.com/practicaldev/image/fetch/s--VaxrSdrA--/c_limit%2Cf_auto%2Cfl_progressive%2Cq_auto%2Cw_880/https://thepracticaldev.s3.amazonaws.com/i/bp6ux6ppf5t5amwkxklq.jpg)\n",
    "\n",
    "\n",
    "### Numpy\n",
    "One of the most popular scientific computing package for working with Tensors is nunmpy.\n",
    "![numpy](https://res-3.cloudinary.com/crunchbase-production/image/upload/c_lpad,h_256,w_256,f_auto,q_auto:eco/gxgj1nsz0eq3rg13j7kk)\n",
    "\n",
    "Numpy is the go-to package for nD arrays. PyTorch's tensor library mirrors numpy nD array capabilities very closely and in addition is highly interoprable with numpy. In PyTorch GPU support for tensors is inbuilt, and it is vey easy to move arrays from numpy (CPU) to GPU.\n"
   ]
  },
  {
   "cell_type": "markdown",
   "metadata": {
    "id": "C5jBjmADG3g-"
   },
   "source": [
    "\n",
    "\n",
    "#### PyTorch Philosophy\n",
    "\n",
    "* Stay out of the way\n",
    "* Cater to the impatient\n",
    "* Promote linear code-flow\n",
    "* Full interop with the Python ecosystem\n",
    "* Be as fasst as anything else\n",
    "\n",
    "#### Debugging\n",
    "\n",
    "* PyTorch is Python Extension\n",
    "* You can use any Python Debugger\n",
    "* Even _print_ function works on PyTorch objects\n",
    "\n",
    "## Why it got so popular?\n",
    "\n",
    "To solve deep neural networks, we need to calculate derivates, and to do this computationally, deep learning frameworks use what are called **computational graphs**.\n",
    "![cgs](https://pytorch.org/assets/images/augmented_computational_graph.png)\n",
    "\n",
    "PyTorch introduced **Dynamic Computational Graphs**, a first in the industry. It means that the graph is generated on the fly as the operations occur in contrast to _static graphs_ that are fully determined before actual action occur.\n",
    "\n",
    "Experimentation, advanced models and quick tests need Dynamic Computation Graphs as a back-end feature.\n",
    "\n",
    "The debate between PyTorch and TensorFlow for deep learning applications has evolved considerably, with both frameworks making significant strides in features, usability, and performance. TensorFlow's introduction of dynamic computation graphs (through TensorFlow 2.0 and the eager execution mode) has indeed narrowed the gap that initially set PyTorch apart, primarily its intuitive approach and ease of use due to dynamic graph computation. However, there are still several areas where users might prefer PyTorch over TensorFlow, depending on their specific needs and preferences:\n",
    "\n",
    "1. **Ease of Learning and Use:** PyTorch is often praised for its straightforward and pythonic syntax, making it easier to learn, especially for beginners in deep learning. Its dynamic computation graph (define-by-run approach) allows for more intuitive debugging and a simpler way to understand the model flow.\n",
    "\n",
    "2. **Research and Flexibility:** PyTorch continues to be very popular in the research community due to its flexibility and simplicity, which are crucial for experimental setups. The dynamic nature of its computation graphs makes it easier to change the model on the fly and is often preferred for prototyping and exploratory research projects.\n",
    "\n",
    "3. **Better Integration with Python:** PyTorch is designed to integrate closely with Python, leveraging its features and libraries with minimal friction. This seamless integration makes it a favorite for developers coming from a Python background, looking to incorporate deep learning models into their Python projects.\n",
    "\n",
    "4. **Community and Ecosystem:** While TensorFlow has a large and established user base, PyTorch has been rapidly growing its community, particularly among researchers and academia. This vibrant community contributes to a wide range of tutorials, forums, and third-party extensions, which can be particularly valuable for cutting-edge research and newer methodologies.\n",
    "\n",
    "5. **Dynamic vs. Static Computation Graphs:** Although TensorFlow now supports dynamic computation graphs, PyTorch's implementation is inherently dynamic, designed from the ground up to be flexible and intuitive. This can lead to easier experimentation and modifications without the need to rebuild the graph from scratch, as was traditionally the case with TensorFlow's static graphs before the introduction of eager execution.\n",
    "\n",
    "6. **Model Development and Deployment:** TensorFlow might have an edge in deployment capabilities, especially with TensorFlow Serving and TensorFlow Lite for mobile devices. However, PyTorch has made strides in this area with TorchScript and the PyTorch Mobile, narrowing the deployment gap and offering competitive options for bringing models from research to production."
   ]
  },
  {
   "cell_type": "markdown",
   "metadata": {
    "id": "XtMEQXvGILMu"
   },
   "source": [
    "# Let's do some coding now.\n",
    "\n",
    "### Pytorch's tensors are similar to Numpy's ndarrays"
   ]
  },
  {
   "cell_type": "code",
   "execution_count": null,
   "metadata": {
    "colab": {
     "base_uri": "https://localhost:8080/"
    },
    "id": "WUuuOiIv-Z6J",
    "outputId": "5b33b83c-3826-40b5-d7a6-cf253054ccf4"
   },
   "outputs": [
    {
     "name": "stdout",
     "output_type": "stream",
     "text": [
      "Requirement already satisfied: torch in /usr/local/lib/python3.7/dist-packages (1.9.0+cu102)\n",
      "Requirement already satisfied: typing-extensions in /usr/local/lib/python3.7/dist-packages (from torch) (3.7.4.3)\n"
     ]
    }
   ],
   "source": [
    "# Pytorch's tensors are similar to Numpy's ndarrays\n",
    "!pip install torch"
   ]
  },
  {
   "cell_type": "code",
   "execution_count": null,
   "metadata": {
    "colab": {
     "base_uri": "https://localhost:8080/"
    },
    "id": "T8dqgHf_Jx_h",
    "outputId": "be886a0a-5423-441a-e46d-ff866970c656"
   },
   "outputs": [
    {
     "name": "stdout",
     "output_type": "stream",
     "text": [
      "sample_data\n"
     ]
    }
   ],
   "source": [
    "!ls"
   ]
  },
  {
   "cell_type": "code",
   "execution_count": 2,
   "metadata": {
    "colab": {
     "base_uri": "https://localhost:8080/"
    },
    "id": "ovgGkHz_J0dy",
    "outputId": "6dee4500-5bef-4a48-c63d-132d9be94488"
   },
   "outputs": [
    {
     "name": "stdout",
     "output_type": "stream",
     "text": [
      "1.3, [1. 2. 3.], [[1. 2.]\n",
      " [4. 5.]]\n"
     ]
    }
   ],
   "source": [
    "import numpy as np\n",
    "\n",
    "V0 = np.array(1.3)\n",
    "V1 = np.array([1., 2., 3.])\n",
    "V2 = np.array([[1., 2.], [4., 5.]])\n",
    "print(f'{V0}, {V1}, {V2}')"
   ]
  },
  {
   "cell_type": "markdown",
   "metadata": {
    "id": "KgL8_6O8KK40"
   },
   "source": [
    "### Creating a Tensor from a Numpy"
   ]
  },
  {
   "cell_type": "code",
   "execution_count": 3,
   "metadata": {
    "id": "QXMSfrHEKcBK"
   },
   "outputs": [],
   "source": [
    "numpy_array = np.array([1, 2, 3])"
   ]
  },
  {
   "cell_type": "code",
   "execution_count": 4,
   "metadata": {
    "id": "FPJOCrp4KFOJ"
   },
   "outputs": [],
   "source": [
    "import torch\n",
    "\n",
    "t1 = torch.Tensor(numpy_array)\n",
    "# Constructor - same as torch.FloatTensor\n",
    "# uses a default float32 tensor, this bechanvor can be changed\n",
    "# all other tensors inherit from this main tensor class\n",
    "\n",
    "t2 = torch.tensor(numpy_array)\n",
    "# Factory Function\n",
    "# going to produce a new tensor of the same type\n",
    "# does not share underlying memory with numpy!\n",
    "# always copies the data\n",
    "# torch.tensor(data, dtype=None, device=None, requires_grad=False/True)\n",
    "# highly recommended to use!\n",
    "\n",
    "t3 = torch.as_tensor(numpy_array)\n",
    "# Factory Function\n",
    "# produce a new tensor with the same data type\n",
    "# share the underlying memory with numpy, changing one, will change another!\n",
    "# CAN ACCEPT ANY PYTHON DATA STRUCTURE INCLUDING NUMPY ARRAYS\n",
    "# always tries to avoid a copy of the data!\n",
    "# we have to manually call requires_grad() function on the final tensor. It does not suppor\n",
    "#     requires_grad by default\n",
    "# recommended to use!\n",
    "\n",
    "t4 = torch.from_numpy(numpy_array)\n",
    "# Factory Function\n",
    "# produce a new tensor with the same data type\n",
    "# share the underlying memory with numpy, changing one, will change another!\n",
    "# CAN ACCEPT ONLY NUMPY ARRAYS"
   ]
  },
  {
   "cell_type": "code",
   "execution_count": 5,
   "metadata": {
    "colab": {
     "base_uri": "https://localhost:8080/"
    },
    "id": "c1HULclROh3H",
    "outputId": "95d553b4-fc7e-4eef-e27e-b265c64a6175"
   },
   "outputs": [
    {
     "data": {
      "text/plain": [
       "(dtype('int64'), torch.float32, torch.int64, torch.int64, torch.int64)"
      ]
     },
     "execution_count": 5,
     "metadata": {},
     "output_type": "execute_result"
    }
   ],
   "source": [
    "numpy_array.dtype, t1.dtype, t2.dtype, t3.dtype, t4.dtype"
   ]
  },
  {
   "cell_type": "markdown",
   "metadata": {
    "id": "nWSpxff7PPD7"
   },
   "source": [
    "### Sharing memory for performance: copy vs share\n",
    "\n",
    "| Share Data |Copy Data |\n",
    "|----|----|\n",
    "|torch.as_tensor() | torch.tensor() |\n",
    "|torch.from_numpy() | torch.Tensor() |   \n",
    "  \n",
    "> **Zero Memory Copy** ⇋ Very Efficient\n",
    "\n",
    "### Something to keep in mind\n",
    "* Since numpy.array objects are allocated on CPU, the `as_tensor()` function must copy the data from the CPU to the GPU when a GPU is being used\n",
    "* The memory sharing of `as_tensor()` doesn't work with built-in Python data structure like list\n",
    "* The `as_tensor()` call requires developer knowledge of the sharing feature. This is necessary so we don't make an unwanted change in the underlying data without realising it\n",
    "* The `as_tensor()` performance improvement will be greater when there are a lot of back and forth operations between `numpy.array` objects and tensor objects.\n",
    "\n",
    "\n"
   ]
  },
  {
   "cell_type": "code",
   "execution_count": 6,
   "metadata": {
    "colab": {
     "base_uri": "https://localhost:8080/"
    },
    "id": "LVAh6hItO38O",
    "outputId": "f2988586-08b8-4251-ca03-a605778112c7"
   },
   "outputs": [
    {
     "data": {
      "text/plain": [
       "array([ 4,  8, 12])"
      ]
     },
     "execution_count": 6,
     "metadata": {},
     "output_type": "execute_result"
    }
   ],
   "source": [
    "numpy_array *= 4\n",
    "# numpy_array = numpy_array * 4\n",
    "numpy_array"
   ]
  },
  {
   "cell_type": "code",
   "execution_count": 7,
   "metadata": {
    "colab": {
     "base_uri": "https://localhost:8080/"
    },
    "id": "TJzJiATkQQ88",
    "outputId": "ab4bca09-e32a-44db-8e03-30f84e723243"
   },
   "outputs": [
    {
     "data": {
      "text/plain": [
       "(tensor([1., 2., 3.]),\n",
       " tensor([1, 2, 3]),\n",
       " tensor([ 4,  8, 12]),\n",
       " tensor([ 4,  8, 12]))"
      ]
     },
     "execution_count": 7,
     "metadata": {},
     "output_type": "execute_result"
    }
   ],
   "source": [
    "t1, t2, t3, t4"
   ]
  },
  {
   "cell_type": "code",
   "execution_count": 8,
   "metadata": {
    "colab": {
     "base_uri": "https://localhost:8080/"
    },
    "id": "jP7RjYVXQdwg",
    "outputId": "ee5e1808-db46-45bb-cfdb-5d2414d541de"
   },
   "outputs": [
    {
     "data": {
      "text/plain": [
       "(array([ 4,  8, 12]),\n",
       " tensor([2., 4., 6.]),\n",
       " tensor([1, 2, 3]),\n",
       " tensor([ 4,  8, 12]),\n",
       " tensor([ 4,  8, 12]))"
      ]
     },
     "execution_count": 8,
     "metadata": {},
     "output_type": "execute_result"
    }
   ],
   "source": [
    "t1 *= 2\n",
    "numpy_array, t1, t2, t3, t4"
   ]
  },
  {
   "cell_type": "code",
   "execution_count": 9,
   "metadata": {
    "colab": {
     "base_uri": "https://localhost:8080/"
    },
    "id": "x-FjVu_3Qhwc",
    "outputId": "e698341a-166e-4a31-a761-5261ec090099"
   },
   "outputs": [
    {
     "data": {
      "text/plain": [
       "(array([ 4,  8, 12]),\n",
       " tensor([2., 4., 6.]),\n",
       " tensor([2, 4, 6]),\n",
       " tensor([ 4,  8, 12]),\n",
       " tensor([ 4,  8, 12]))"
      ]
     },
     "execution_count": 9,
     "metadata": {},
     "output_type": "execute_result"
    }
   ],
   "source": [
    "t2 *= 2\n",
    "numpy_array, t1, t2, t3, t4"
   ]
  },
  {
   "cell_type": "code",
   "execution_count": 10,
   "metadata": {
    "colab": {
     "base_uri": "https://localhost:8080/"
    },
    "id": "5Q1bv9YCQnZD",
    "outputId": "526625d7-438d-4433-b875-640f42b0a616"
   },
   "outputs": [
    {
     "data": {
      "text/plain": [
       "(array([ 8, 16, 24]),\n",
       " tensor([2., 4., 6.]),\n",
       " tensor([2, 4, 6]),\n",
       " tensor([ 8, 16, 24]),\n",
       " tensor([ 8, 16, 24]))"
      ]
     },
     "execution_count": 10,
     "metadata": {},
     "output_type": "execute_result"
    }
   ],
   "source": [
    "t3 *= 2\n",
    "numpy_array, t1, t2, t3, t4"
   ]
  },
  {
   "cell_type": "code",
   "execution_count": 11,
   "metadata": {
    "colab": {
     "base_uri": "https://localhost:8080/"
    },
    "id": "D2qY5n0sQscg",
    "outputId": "8dc4fbba-0395-4f8e-a300-ccfd3bb477ec"
   },
   "outputs": [
    {
     "data": {
      "text/plain": [
       "(array([16, 32, 48]),\n",
       " tensor([2., 4., 6.]),\n",
       " tensor([2, 4, 6]),\n",
       " tensor([16, 32, 48]),\n",
       " tensor([16, 32, 48]))"
      ]
     },
     "execution_count": 11,
     "metadata": {},
     "output_type": "execute_result"
    }
   ],
   "source": [
    "t4 *= 2\n",
    "numpy_array, t1, t2, t3, t4"
   ]
  },
  {
   "cell_type": "code",
   "execution_count": 12,
   "metadata": {
    "colab": {
     "base_uri": "https://localhost:8080/"
    },
    "id": "jFjquHO4Qu6s",
    "outputId": "af9bf8d7-9620-4803-924a-07eab87455f7"
   },
   "outputs": [
    {
     "data": {
      "text/plain": [
       "(device(type='cuda', index=0), device(type='cpu'))"
      ]
     },
     "execution_count": 12,
     "metadata": {},
     "output_type": "execute_result"
    }
   ],
   "source": [
    "t5 = t4.cuda()\n",
    "\n",
    "t5.device, t4.device"
   ]
  },
  {
   "cell_type": "code",
   "execution_count": 13,
   "metadata": {
    "colab": {
     "base_uri": "https://localhost:8080/"
    },
    "id": "owAPc7ZrQ-8z",
    "outputId": "f05dd9ab-0081-487a-d101-22e693972d1c"
   },
   "outputs": [
    {
     "data": {
      "text/plain": [
       "tensor([32, 64, 96])"
      ]
     },
     "execution_count": 13,
     "metadata": {},
     "output_type": "execute_result"
    }
   ],
   "source": [
    "t6 = t4 + t3\n",
    "t6"
   ]
  },
  {
   "cell_type": "code",
   "execution_count": 15,
   "metadata": {
    "colab": {
     "base_uri": "https://localhost:8080/",
     "height": 180
    },
    "id": "PlehRzSrRDt2",
    "outputId": "d2127b89-4096-41a2-b5a6-07037289ad76"
   },
   "outputs": [
    {
     "ename": "RuntimeError",
     "evalue": "Expected all tensors to be on the same device, but found at least two devices, cuda:0 and cpu!",
     "output_type": "error",
     "traceback": [
      "\u001b[0;31m---------------------------------------------------------------------------\u001b[0m",
      "\u001b[0;31mRuntimeError\u001b[0m                              Traceback (most recent call last)",
      "\u001b[0;32m<ipython-input-15-5ad16a8f8fbb>\u001b[0m in \u001b[0;36m<cell line: 2>\u001b[0;34m()\u001b[0m\n\u001b[1;32m      1\u001b[0m \u001b[0;31m#for operations, the tensors should be on same memory\u001b[0m\u001b[0;34m\u001b[0m\u001b[0;34m\u001b[0m\u001b[0m\n\u001b[0;32m----> 2\u001b[0;31m \u001b[0mt6\u001b[0m \u001b[0;34m=\u001b[0m \u001b[0mt4\u001b[0m \u001b[0;34m+\u001b[0m \u001b[0mt5\u001b[0m\u001b[0;34m\u001b[0m\u001b[0;34m\u001b[0m\u001b[0m\n\u001b[0m\u001b[1;32m      3\u001b[0m \u001b[0mt6\u001b[0m\u001b[0;34m\u001b[0m\u001b[0;34m\u001b[0m\u001b[0m\n",
      "\u001b[0;31mRuntimeError\u001b[0m: Expected all tensors to be on the same device, but found at least two devices, cuda:0 and cpu!"
     ]
    }
   ],
   "source": [
    "#for operations, the tensors should be on same memory\n",
    "t6 = t4 + t5\n",
    "t6"
   ]
  },
  {
   "cell_type": "code",
   "execution_count": 16,
   "metadata": {
    "colab": {
     "base_uri": "https://localhost:8080/"
    },
    "id": "iou6IcjgRGTi",
    "outputId": "93e80a62-04d9-44ac-efe3-a3cf9c9bf5c1"
   },
   "outputs": [
    {
     "data": {
      "text/plain": [
       "tensor([[1., 0.],\n",
       "        [0., 1.]])"
      ]
     },
     "execution_count": 16,
     "metadata": {},
     "output_type": "execute_result"
    }
   ],
   "source": [
    "torch.eye(2)"
   ]
  },
  {
   "cell_type": "markdown",
   "metadata": {
    "colab": {
     "base_uri": "https://localhost:8080/"
    },
    "id": "0ehqN6mWROtE",
    "outputId": "60f9dc1f-dd7a-40b4-cd93-ba8e23681143"
   },
   "source": [
    "#### torch.zeros(2, 2)"
   ]
  },
  {
   "cell_type": "code",
   "execution_count": 18,
   "metadata": {
    "colab": {
     "base_uri": "https://localhost:8080/"
    },
    "id": "JX0nBzpHRTyE",
    "outputId": "a43063f2-e7d7-4604-f1dc-0a44ac9c4c4e"
   },
   "outputs": [
    {
     "data": {
      "text/plain": [
       "tensor([[1., 1., 1.],\n",
       "        [1., 1., 1.]])"
      ]
     },
     "execution_count": 18,
     "metadata": {},
     "output_type": "execute_result"
    }
   ],
   "source": [
    "torch.ones(2, 3)"
   ]
  },
  {
   "cell_type": "code",
   "execution_count": 19,
   "metadata": {
    "colab": {
     "base_uri": "https://localhost:8080/"
    },
    "id": "ONWRcHOVRV2r",
    "outputId": "f2c9b583-334a-4e82-bb68-a296bdba45d8"
   },
   "outputs": [
    {
     "data": {
      "text/plain": [
       "tensor([[0.6771, 0.3640, 0.7737, 0.0773],\n",
       "        [0.5386, 0.4487, 0.8727, 0.2044]])"
      ]
     },
     "execution_count": 19,
     "metadata": {},
     "output_type": "execute_result"
    }
   ],
   "source": [
    "torch.rand(2, 4)"
   ]
  },
  {
   "cell_type": "code",
   "execution_count": 20,
   "metadata": {
    "colab": {
     "base_uri": "https://localhost:8080/"
    },
    "id": "mN-yMdZtRZW4",
    "outputId": "299e1c6d-52e7-46fd-9644-925a489879b1"
   },
   "outputs": [
    {
     "data": {
      "text/plain": [
       "(tensor(4),\n",
       " tensor([1, 2]),\n",
       " tensor([[1, 2],\n",
       "         [4, 5]]))"
      ]
     },
     "execution_count": 20,
     "metadata": {},
     "output_type": "execute_result"
    }
   ],
   "source": [
    "data = torch.tensor([[1, 2, 3], [4, 5, 6]])\n",
    "data[1, 0], data[0, 0:2], data[:2, :2]"
   ]
  },
  {
   "cell_type": "markdown",
   "metadata": {
    "id": "KAKj4s5vR7vL"
   },
   "source": [
    "#### Torch.tensor attributes\n",
    "\n",
    "| Attribute | Data Type | Description |\n",
    "|----|----|----|\n",
    "|data|array_like | list, tuple, NumPy ndarray, scalar |\n",
    "|dtype| torch.dtype | The tensor's data type|\n",
    "|requires_grad | bool| Should autograd record operation |\n",
    "|device | torch.device | Allocated on CPU or CUDA (GPU) |\n",
    "\n",
    "torch.tensor(data, dtype=None, device=None, requires_grad=False) → Tensor\n"
   ]
  },
  {
   "cell_type": "code",
   "execution_count": 21,
   "metadata": {
    "colab": {
     "base_uri": "https://localhost:8080/"
    },
    "id": "1akSfq3URwVY",
    "outputId": "e831b6b4-6314-46a3-e93d-0fb5c1b7ecd5"
   },
   "outputs": [
    {
     "data": {
      "text/plain": [
       "tensor([1., 2., 3.])"
      ]
     },
     "execution_count": 21,
     "metadata": {},
     "output_type": "execute_result"
    }
   ],
   "source": [
    "t = torch.tensor(data = [1, 2, 3], dtype=torch.float32, device='cpu', requires_grad=False)\n",
    "t"
   ]
  },
  {
   "cell_type": "code",
   "execution_count": 25,
   "metadata": {
    "colab": {
     "base_uri": "https://localhost:8080/"
    },
    "id": "ThF7hc8qSYxk",
    "outputId": "0dc46b0e-a1a4-41f4-eac4-07eb09857c51"
   },
   "outputs": [
    {
     "data": {
      "text/plain": [
       "tensor([1., 2., 3.])"
      ]
     },
     "execution_count": 25,
     "metadata": {},
     "output_type": "execute_result"
    }
   ],
   "source": [
    "# this way of initialization do not support autograd function\n",
    "t = torch.as_tensor(data = [1, 2, 3], dtype=torch.float32, device='cpu')\n",
    "t"
   ]
  },
  {
   "cell_type": "code",
   "execution_count": 27,
   "metadata": {
    "colab": {
     "base_uri": "https://localhost:8080/"
    },
    "id": "NvrC299iScRl",
    "outputId": "af24d124-73ed-4b40-8f44-a8131421528a"
   },
   "outputs": [
    {
     "data": {
      "text/plain": [
       "tensor([1., 2., 3.], requires_grad=True)"
      ]
     },
     "execution_count": 27,
     "metadata": {},
     "output_type": "execute_result"
    }
   ],
   "source": [
    "#we need to explicitly enable grad\n",
    "t.requires_grad_()"
   ]
  },
  {
   "cell_type": "markdown",
   "metadata": {
    "id": "GykvGJddSipp"
   },
   "source": [
    "## Autograd\n",
    "\n",
    "* Automatic differentiation for all operations on Tensors\n",
    "* The backward graph is automatically defined by the forward graph!\n"
   ]
  },
  {
   "cell_type": "code",
   "execution_count": 30,
   "metadata": {
    "colab": {
     "base_uri": "https://localhost:8080/"
    },
    "id": "FFQbjUuaSfQs",
    "outputId": "29d5d3e6-d287-48f1-9b4d-a04cc43bc2bf"
   },
   "outputs": [
    {
     "data": {
      "text/plain": [
       "(tensor(2., dtype=torch.float16, requires_grad=True),\n",
       " tensor(3., dtype=torch.float16, requires_grad=True),\n",
       " tensor(1., dtype=torch.float16, requires_grad=True),\n",
       " tensor(4., dtype=torch.float16, requires_grad=True))"
      ]
     },
     "execution_count": 30,
     "metadata": {},
     "output_type": "execute_result"
    }
   ],
   "source": [
    "from torch.autograd import grad\n",
    "\n",
    "x1 = torch.tensor(2, requires_grad=True, dtype=torch.float16)\n",
    "x2 = torch.tensor(3, requires_grad=True, dtype=torch.float16)\n",
    "x3 = torch.tensor(1, requires_grad=True, dtype=torch.float16)\n",
    "x4 = torch.tensor(4, requires_grad=True, dtype=torch.float16)\n",
    "\n",
    "x1, x2, x3, x4"
   ]
  },
  {
   "cell_type": "code",
   "execution_count": 31,
   "metadata": {
    "colab": {
     "base_uri": "https://localhost:8080/"
    },
    "id": "4DAc8AfHSnkC",
    "outputId": "588bc7a4-ff06-4c19-8ec2-33a9b2554757"
   },
   "outputs": [
    {
     "name": "stdout",
     "output_type": "stream",
     "text": [
      "gradient of x1 = 3.0\n",
      "gradient of x2 = 2.0\n",
      "gradient of x3 = 4.0\n",
      "gradient of x4 = 1.0\n"
     ]
    }
   ],
   "source": [
    "z1 = x1 * x2\n",
    "z2 = x3 * x4\n",
    "\n",
    "f = z1 + z2\n",
    "# f = x1 * x2 + x3 * x4\n",
    "# f = 2 * 3 + 1 * 4\n",
    "# df_dx1 = x1 * 3 + 1 * 4\n",
    "# df_dx4 = 2 * 3 + 1 * x4\n",
    "\n",
    "df_dx = grad(outputs = f, inputs = [x1, x2, x3, x4])\n",
    "print(f'gradient of x1 = {df_dx[0]}')\n",
    "print(f'gradient of x2 = {df_dx[1]}')\n",
    "print(f'gradient of x3 = {df_dx[2]}')\n",
    "print(f'gradient of x4 = {df_dx[3]}')"
   ]
  },
  {
   "cell_type": "markdown",
   "metadata": {
    "id": "AJuquN4LpKo5"
   },
   "source": [
    "**PyTorch**  provides the elegantly designed modules and classes torch.nn , torch.optim , Dataset , and DataLoader to help you create and train neural networks. In order to fully utilize their power and customize them for your problem, you need to really understand exactly what they’re doing. To develop this understanding, we will first train basic neural net on the MNIST data set without using any features from these models; we will initially only use the most basic PyTorch tensor functionality. Then, we will incrementally add one feature from **torch.nn, torch.optim, Dataset, or DataLoader** at a time, showing exactly what each piece does, and how it works to make the code either more concise, or more flexible."
   ]
  },
  {
   "cell_type": "code",
   "execution_count": 34,
   "metadata": {
    "id": "tX16sOXBUphL"
   },
   "outputs": [],
   "source": [
    "import torch.nn.functional as F\n",
    "import torch.optim as optim\n",
    "\n",
    "opt = optim.SGD(params = [x1, x2, x3, x4], lr=0.001)\n",
    "opt.zero_grad()"
   ]
  },
  {
   "cell_type": "code",
   "execution_count": 35,
   "metadata": {
    "colab": {
     "base_uri": "https://localhost:8080/"
    },
    "id": "75nowlPqTcdv",
    "outputId": "e13558e9-eac9-47ef-a895-8aa67284cff9"
   },
   "outputs": [
    {
     "name": "stdout",
     "output_type": "stream",
     "text": [
      "gradient of x1 = 3.0\n",
      "gradient of x2 = 2.0\n",
      "gradient of x3 = 4.0\n",
      "gradient of x4 = 1.0\n"
     ]
    }
   ],
   "source": [
    "z1 = x1 * x2\n",
    "z2 = x3 * x4\n",
    "\n",
    "f = z1 + z2\n",
    "\n",
    "f.backward()\n",
    "\n",
    "print(f'gradient of x1 = {x1.grad}')\n",
    "print(f'gradient of x2 = {x2.grad}')\n",
    "print(f'gradient of x3 = {x3.grad}')\n",
    "print(f'gradient of x4 = {x4.grad}')"
   ]
  },
  {
   "cell_type": "markdown",
   "metadata": {
    "id": "Ty8gX0HXWpaS"
   },
   "source": [
    "### Tensor Operation Types\n",
    "\n",
    "1. Reshaping Operations\n",
    "2. Element-wise Operations\n",
    "3. Reduction Operations\n",
    "4. Access Operations"
   ]
  },
  {
   "cell_type": "code",
   "execution_count": 36,
   "metadata": {
    "id": "dXwGT3BnUCUN"
   },
   "outputs": [],
   "source": [
    "t = torch.tensor([\n",
    "    [0, 0, 0, 0],\n",
    "    [1, 2, 3, 4],\n",
    "    [2, 2, 2, 2]\n",
    "], dtype=torch.float32)"
   ]
  },
  {
   "cell_type": "code",
   "execution_count": 37,
   "metadata": {
    "colab": {
     "base_uri": "https://localhost:8080/"
    },
    "id": "C73dVxzTUPoX",
    "outputId": "6fc1fe2a-6b04-4a02-aa04-d1fbadb56cf8"
   },
   "outputs": [
    {
     "data": {
      "text/plain": [
       "(torch.Size([3, 4]), torch.Size([3, 4]), 2)"
      ]
     },
     "execution_count": 37,
     "metadata": {},
     "output_type": "execute_result"
    }
   ],
   "source": [
    "t.shape, t.size(), len(t.shape)"
   ]
  },
  {
   "cell_type": "code",
   "execution_count": 38,
   "metadata": {
    "colab": {
     "base_uri": "https://localhost:8080/"
    },
    "id": "8nRkt-S6W4Nk",
    "outputId": "ed1debe2-1435-4815-d606-a6b4f06ba3fe"
   },
   "outputs": [
    {
     "data": {
      "text/plain": [
       "tensor(12)"
      ]
     },
     "execution_count": 38,
     "metadata": {},
     "output_type": "execute_result"
    }
   ],
   "source": [
    "torch.tensor(t.shape).prod()"
   ]
  },
  {
   "cell_type": "code",
   "execution_count": 39,
   "metadata": {
    "colab": {
     "base_uri": "https://localhost:8080/"
    },
    "id": "6x6fz7zKXJMF",
    "outputId": "17c5719d-0694-4f01-be97-f5a0a797ee98"
   },
   "outputs": [
    {
     "data": {
      "text/plain": [
       "12"
      ]
     },
     "execution_count": 39,
     "metadata": {},
     "output_type": "execute_result"
    }
   ],
   "source": [
    "t.numel()"
   ]
  },
  {
   "cell_type": "markdown",
   "metadata": {
    "id": "suGhXGWfXTBF"
   },
   "source": [
    "### Why knowing these is important?\n",
    "\n",
    "When we reshape a tensor, the reshaping operation must account for all of numel (or total number of elements). We if we have 12 elements, we can only build 1x12, 12x1, 6x2, 2x6, 3x4, 4x3 reshaped tensors"
   ]
  },
  {
   "cell_type": "code",
   "execution_count": 40,
   "metadata": {
    "colab": {
     "base_uri": "https://localhost:8080/"
    },
    "id": "Tc2MvwtxXLSj",
    "outputId": "45a8233b-26ba-4978-dcea-3fafc51af134"
   },
   "outputs": [
    {
     "data": {
      "text/plain": [
       "tensor([[0., 0., 0., 0., 1., 2., 3., 4., 2., 2., 2., 2.]])"
      ]
     },
     "execution_count": 40,
     "metadata": {},
     "output_type": "execute_result"
    }
   ],
   "source": [
    "t.reshape(1, 12)"
   ]
  },
  {
   "cell_type": "code",
   "execution_count": 41,
   "metadata": {
    "colab": {
     "base_uri": "https://localhost:8080/"
    },
    "id": "1s3Ffsr3Xc7m",
    "outputId": "1c85590b-a326-4ca5-ba89-8e658a94c80d"
   },
   "outputs": [
    {
     "data": {
      "text/plain": [
       "tensor([[0., 0., 0., 0., 1., 2.],\n",
       "        [3., 4., 2., 2., 2., 2.]])"
      ]
     },
     "execution_count": 41,
     "metadata": {},
     "output_type": "execute_result"
    }
   ],
   "source": [
    "t.reshape(2, 6)"
   ]
  },
  {
   "cell_type": "code",
   "execution_count": 42,
   "metadata": {
    "colab": {
     "base_uri": "https://localhost:8080/"
    },
    "id": "6xRC216mZkhi",
    "outputId": "997fc0e6-9d30-46f0-de76-50e53117c1f5"
   },
   "outputs": [
    {
     "data": {
      "text/plain": [
       "tensor([[0., 0., 0., 0., 1., 2.],\n",
       "        [3., 4., 2., 2., 2., 2.]])"
      ]
     },
     "execution_count": 42,
     "metadata": {},
     "output_type": "execute_result"
    }
   ],
   "source": [
    "t.reshape(2, -1)"
   ]
  },
  {
   "cell_type": "code",
   "execution_count": 43,
   "metadata": {
    "colab": {
     "base_uri": "https://localhost:8080/"
    },
    "id": "buB9mkdTXfBs",
    "outputId": "aef80b7b-522f-4199-95d9-1dcc142e891e"
   },
   "outputs": [
    {
     "data": {
      "text/plain": [
       "tensor([[0., 0., 0.],\n",
       "        [0., 1., 2.],\n",
       "        [3., 4., 2.],\n",
       "        [2., 2., 2.]])"
      ]
     },
     "execution_count": 43,
     "metadata": {},
     "output_type": "execute_result"
    }
   ],
   "source": [
    "t.reshape(4, 3)"
   ]
  },
  {
   "cell_type": "code",
   "execution_count": 44,
   "metadata": {
    "colab": {
     "base_uri": "https://localhost:8080/"
    },
    "id": "WPpdxKp9Xgpr",
    "outputId": "3b239071-885d-4a20-9db6-55a5354a7d6e"
   },
   "outputs": [
    {
     "data": {
      "text/plain": [
       "tensor([[[0., 0., 0.],\n",
       "         [0., 1., 2.]],\n",
       "\n",
       "        [[3., 4., 2.],\n",
       "         [2., 2., 2.]]])"
      ]
     },
     "execution_count": 44,
     "metadata": {},
     "output_type": "execute_result"
    }
   ],
   "source": [
    "t.reshape(2, 2, 3)"
   ]
  },
  {
   "cell_type": "code",
   "execution_count": 45,
   "metadata": {
    "colab": {
     "base_uri": "https://localhost:8080/"
    },
    "id": "eRsgkk6zXkJw",
    "outputId": "4a502693-3faa-4e96-d445-21841efbae38"
   },
   "outputs": [
    {
     "name": "stdout",
     "output_type": "stream",
     "text": [
      "tensor([[0., 0., 0., 0., 1., 2., 3., 4., 2., 2., 2., 2.]])\n",
      "torch.Size([1, 12])\n"
     ]
    }
   ],
   "source": [
    "print(t.reshape(1, 12))\n",
    "print(t.reshape(1, 12).shape)"
   ]
  },
  {
   "cell_type": "markdown",
   "metadata": {
    "id": "NfiuUs5vX87T"
   },
   "source": [
    "**Squeezing a Tensor**\n",
    "\n",
    "Removes all the dimensions that have a length of 1\n",
    "\n",
    "**Unsqueezing a Tensor**\n",
    "Adds a dimension that has a length of 1."
   ]
  },
  {
   "cell_type": "code",
   "execution_count": 46,
   "metadata": {
    "colab": {
     "base_uri": "https://localhost:8080/"
    },
    "id": "ZVGjdXHgX4xC",
    "outputId": "a3785b7b-239d-4635-8455-8e5b7c4a7d34"
   },
   "outputs": [
    {
     "name": "stdout",
     "output_type": "stream",
     "text": [
      "tensor([[0., 0., 0., 0., 1., 2., 3., 4., 2., 2., 2., 2.]])\n",
      "torch.Size([1, 12])\n"
     ]
    }
   ],
   "source": [
    "print(t.reshape(1, 12))\n",
    "print(t.reshape(1, 12).shape)"
   ]
  },
  {
   "cell_type": "code",
   "execution_count": 47,
   "metadata": {
    "colab": {
     "base_uri": "https://localhost:8080/"
    },
    "id": "rUtw-5lrY2VY",
    "outputId": "52c1a8a5-ee88-42cd-c26e-fbbdced2c47f"
   },
   "outputs": [
    {
     "name": "stdout",
     "output_type": "stream",
     "text": [
      "tensor([0., 0., 0., 0., 1., 2., 3., 4., 2., 2., 2., 2.])\n",
      "torch.Size([12])\n"
     ]
    }
   ],
   "source": [
    "print(t.reshape(1, 12).squeeze())\n",
    "print(t.reshape(1, 12).squeeze().shape)"
   ]
  },
  {
   "cell_type": "code",
   "execution_count": 48,
   "metadata": {
    "colab": {
     "base_uri": "https://localhost:8080/"
    },
    "id": "W9fyHEFsY5rs",
    "outputId": "23299ff2-897b-4d9f-e365-d7ccc57e2ebc"
   },
   "outputs": [
    {
     "name": "stdout",
     "output_type": "stream",
     "text": [
      "tensor([[0., 0., 0., 0., 1., 2., 3., 4., 2., 2., 2., 2.]])\n",
      "torch.Size([1, 12])\n"
     ]
    }
   ],
   "source": [
    "print(t.reshape(1, 12).squeeze().unsqueeze(dim = 0))\n",
    "print(t.reshape(1, 12).squeeze().unsqueeze(dim = 0).shape)"
   ]
  },
  {
   "cell_type": "markdown",
   "metadata": {
    "id": "K4pNfHQTZMzZ"
   },
   "source": [
    "**Use cases?**\n",
    "\n",
    "Neural networks are always trained in a batch of samples. This is troubling because when we want to test 1 image, we do not have an array, we only have 1 image. Well we unsqueeze it to fake a batch.\n",
    "\n",
    "We use this function that is very common, called Flatten. This essentially create a new tensor that is only 1D. This is done to connect our data to next Fully Connected Layers. We use squeeze function for this.\n",
    "\n",
    "Let's implement such a function."
   ]
  },
  {
   "cell_type": "code",
   "execution_count": 49,
   "metadata": {
    "colab": {
     "base_uri": "https://localhost:8080/"
    },
    "id": "JFMVFaq_Y-im",
    "outputId": "e26615c6-aa89-4d4a-f5d8-d7206c2cb8f8"
   },
   "outputs": [
    {
     "data": {
      "text/plain": [
       "torch.Size([3, 4])"
      ]
     },
     "execution_count": 49,
     "metadata": {},
     "output_type": "execute_result"
    }
   ],
   "source": [
    "def flatter(t):\n",
    "  t = t.reshape(1, -1)\n",
    "  t = t.squeeze()\n",
    "  return t\n",
    "\n",
    "t.shape\n"
   ]
  },
  {
   "cell_type": "code",
   "execution_count": 50,
   "metadata": {
    "colab": {
     "base_uri": "https://localhost:8080/"
    },
    "id": "CMtEVNSpZsvY",
    "outputId": "99ebd4d2-2109-4d1b-e9ad-7ab5416c5530"
   },
   "outputs": [
    {
     "data": {
      "text/plain": [
       "tensor([0., 0., 0., 0., 1., 2., 3., 4., 2., 2., 2., 2.])"
      ]
     },
     "execution_count": 50,
     "metadata": {},
     "output_type": "execute_result"
    }
   ],
   "source": [
    "flatter(t)"
   ]
  },
  {
   "cell_type": "code",
   "execution_count": 51,
   "metadata": {
    "colab": {
     "base_uri": "https://localhost:8080/"
    },
    "id": "EKu8LGC5Zuk6",
    "outputId": "3fed4c23-2dd3-4c18-9517-b7a5fcf94a91"
   },
   "outputs": [
    {
     "data": {
      "text/plain": [
       "tensor([[1, 2],\n",
       "        [3, 4],\n",
       "        [5, 6],\n",
       "        [7, 8]])"
      ]
     },
     "execution_count": 51,
     "metadata": {},
     "output_type": "execute_result"
    }
   ],
   "source": [
    "t1 = torch.tensor([\n",
    "    [1, 2],\n",
    "    [3, 4]\n",
    "])\n",
    "\n",
    "t2 = torch.tensor([\n",
    "    [5, 6],\n",
    "    [7, 8]\n",
    "])\n",
    "\n",
    "torch.cat((t1, t2), dim=0)"
   ]
  },
  {
   "cell_type": "code",
   "execution_count": 52,
   "metadata": {
    "colab": {
     "base_uri": "https://localhost:8080/"
    },
    "id": "AgudKqwtaBT2",
    "outputId": "9ad0b9a4-35d6-4b26-e67a-c2c0422c81a2"
   },
   "outputs": [
    {
     "data": {
      "text/plain": [
       "tensor([[1, 2, 5, 6],\n",
       "        [3, 4, 7, 8]])"
      ]
     },
     "execution_count": 52,
     "metadata": {},
     "output_type": "execute_result"
    }
   ],
   "source": [
    "torch.cat((t1, t2), dim=1)"
   ]
  },
  {
   "cell_type": "code",
   "execution_count": 53,
   "metadata": {
    "colab": {
     "base_uri": "https://localhost:8080/"
    },
    "id": "twI12pxDacjV",
    "outputId": "8ae5b68e-6bee-496b-d896-05ae5242c360"
   },
   "outputs": [
    {
     "data": {
      "text/plain": [
       "tensor([[0., 0., 0., 0., 1., 2.],\n",
       "        [3., 4., 2., 2., 2., 2.]])"
      ]
     },
     "execution_count": 53,
     "metadata": {},
     "output_type": "execute_result"
    }
   ],
   "source": [
    "t.reshape(2, -1)"
   ]
  },
  {
   "cell_type": "code",
   "execution_count": 54,
   "metadata": {
    "id": "DN5h3KQWaeml"
   },
   "outputs": [],
   "source": [
    "img1 = torch.tensor([\n",
    "  [1, 1, 1, 1],\n",
    "  [1, 1, 1, 1],\n",
    "  [1, 1, 1, 1],\n",
    "  [1, 1, 1, 1]\n",
    "])\n",
    "\n",
    "img2 = torch.tensor([\n",
    "  [2, 2, 2, 2],\n",
    "  [2, 2, 2, 2],\n",
    "  [2, 2, 2, 2],\n",
    "  [2, 2, 2, 2]\n",
    "])\n",
    "\n",
    "img3 = torch.tensor([\n",
    "  [3, 3, 3, 3],\n",
    "  [3, 3, 3, 3],\n",
    "  [3, 3, 3, 3],\n",
    "  [3, 3, 3, 3]\n",
    "])"
   ]
  },
  {
   "cell_type": "markdown",
   "metadata": {
    "id": "UrBNa7h0anPL"
   },
   "source": [
    "3 examples of 4x4 data"
   ]
  },
  {
   "cell_type": "code",
   "execution_count": 55,
   "metadata": {
    "colab": {
     "base_uri": "https://localhost:8080/"
    },
    "id": "Ddy3dRPSaj7S",
    "outputId": "a41ef466-70d7-472e-dbc3-2967942478a0"
   },
   "outputs": [
    {
     "data": {
      "text/plain": [
       "torch.Size([3, 4, 4])"
      ]
     },
     "execution_count": 55,
     "metadata": {},
     "output_type": "execute_result"
    }
   ],
   "source": [
    "batch = torch.stack((img1, img2, img3))\n",
    "batch.shape"
   ]
  },
  {
   "cell_type": "code",
   "execution_count": 56,
   "metadata": {
    "colab": {
     "base_uri": "https://localhost:8080/"
    },
    "id": "PQuiX2LsavsD",
    "outputId": "1715a567-5d90-492f-b01a-efaa928a6c6a"
   },
   "outputs": [
    {
     "data": {
      "text/plain": [
       "tensor([[[[1, 1, 1, 1],\n",
       "          [1, 1, 1, 1],\n",
       "          [1, 1, 1, 1],\n",
       "          [1, 1, 1, 1]]],\n",
       "\n",
       "\n",
       "        [[[2, 2, 2, 2],\n",
       "          [2, 2, 2, 2],\n",
       "          [2, 2, 2, 2],\n",
       "          [2, 2, 2, 2]]],\n",
       "\n",
       "\n",
       "        [[[3, 3, 3, 3],\n",
       "          [3, 3, 3, 3],\n",
       "          [3, 3, 3, 3],\n",
       "          [3, 3, 3, 3]]]])"
      ]
     },
     "execution_count": 56,
     "metadata": {},
     "output_type": "execute_result"
    }
   ],
   "source": [
    "batch = batch.reshape(3, 1, 4, 4)\n",
    "batch"
   ]
  },
  {
   "cell_type": "code",
   "execution_count": 57,
   "metadata": {
    "colab": {
     "base_uri": "https://localhost:8080/"
    },
    "id": "Lo1ntRCbay_C",
    "outputId": "12609f33-96ab-4d52-dd22-8ea4b62401d7"
   },
   "outputs": [
    {
     "data": {
      "text/plain": [
       "tensor([[[1, 1, 1, 1],\n",
       "         [1, 1, 1, 1],\n",
       "         [1, 1, 1, 1],\n",
       "         [1, 1, 1, 1]]])"
      ]
     },
     "execution_count": 57,
     "metadata": {},
     "output_type": "execute_result"
    }
   ],
   "source": [
    "# let's get our first image\n",
    "\n",
    "batch[0]"
   ]
  },
  {
   "cell_type": "code",
   "execution_count": 58,
   "metadata": {
    "colab": {
     "base_uri": "https://localhost:8080/"
    },
    "id": "qqiWHz5fbFvK",
    "outputId": "5e1c7219-0ecb-4f1a-f018-54942e806cea"
   },
   "outputs": [
    {
     "data": {
      "text/plain": [
       "tensor([[1, 1, 1, 1],\n",
       "        [1, 1, 1, 1],\n",
       "        [1, 1, 1, 1],\n",
       "        [1, 1, 1, 1]])"
      ]
     },
     "execution_count": 58,
     "metadata": {},
     "output_type": "execute_result"
    }
   ],
   "source": [
    "# let's get the first channel of our first image\n",
    "\n",
    "batch[0][0]"
   ]
  },
  {
   "cell_type": "code",
   "execution_count": 59,
   "metadata": {
    "colab": {
     "base_uri": "https://localhost:8080/"
    },
    "id": "ZlVwzD1fbItm",
    "outputId": "73178afc-2a37-4d4e-c7d1-51f1665cc17b"
   },
   "outputs": [
    {
     "data": {
      "text/plain": [
       "tensor([1, 1, 1, 1])"
      ]
     },
     "execution_count": 59,
     "metadata": {},
     "output_type": "execute_result"
    }
   ],
   "source": [
    "# let's get the first row of our first channel of our first image\n",
    "\n",
    "batch[0][0][0]"
   ]
  },
  {
   "cell_type": "code",
   "execution_count": 60,
   "metadata": {
    "colab": {
     "base_uri": "https://localhost:8080/"
    },
    "id": "yUJdveDMbJ4T",
    "outputId": "1927bde8-b837-4442-c617-80e035a59eff"
   },
   "outputs": [
    {
     "data": {
      "text/plain": [
       "tensor(1)"
      ]
     },
     "execution_count": 60,
     "metadata": {},
     "output_type": "execute_result"
    }
   ],
   "source": [
    "# let's get the first pixel of the first row of our first channel of our first image\n",
    "\n",
    "batch[0][0][0][0]"
   ]
  },
  {
   "cell_type": "code",
   "execution_count": 61,
   "metadata": {
    "colab": {
     "base_uri": "https://localhost:8080/"
    },
    "id": "YOrULYRobLZX",
    "outputId": "8a1e6deb-c146-405f-9f89-dc0010ac823e"
   },
   "outputs": [
    {
     "data": {
      "text/plain": [
       "tensor([1, 1, 1, 1, 1, 1, 1, 1, 1, 1, 1, 1, 1, 1, 1, 1, 2, 2, 2, 2, 2, 2, 2, 2,\n",
       "        2, 2, 2, 2, 2, 2, 2, 2, 3, 3, 3, 3, 3, 3, 3, 3, 3, 3, 3, 3, 3, 3, 3, 3])"
      ]
     },
     "execution_count": 61,
     "metadata": {},
     "output_type": "execute_result"
    }
   ],
   "source": [
    "# Let's see how we flatten our image inside the batch\n",
    "\n",
    "batch.reshape(1, -1)[0]\n"
   ]
  },
  {
   "cell_type": "code",
   "execution_count": 62,
   "metadata": {
    "colab": {
     "base_uri": "https://localhost:8080/"
    },
    "id": "lDLxQOzDbMa7",
    "outputId": "f5fc5326-48ff-4ce4-8cff-51558bbb0158"
   },
   "outputs": [
    {
     "data": {
      "text/plain": [
       "tensor([[1, 1, 1, 1, 1, 1, 1, 1, 1, 1, 1, 1],\n",
       "        [1, 1, 1, 1, 2, 2, 2, 2, 2, 2, 2, 2],\n",
       "        [2, 2, 2, 2, 2, 2, 2, 2, 3, 3, 3, 3],\n",
       "        [3, 3, 3, 3, 3, 3, 3, 3, 3, 3, 3, 3]])"
      ]
     },
     "execution_count": 62,
     "metadata": {},
     "output_type": "execute_result"
    }
   ],
   "source": [
    "batch.reshape(1, 4, -1)[0]"
   ]
  },
  {
   "cell_type": "code",
   "execution_count": 63,
   "metadata": {
    "colab": {
     "base_uri": "https://localhost:8080/"
    },
    "id": "n98khwvpbZQF",
    "outputId": "b2d30d8d-6497-4a2e-9ea5-6bbb3eec832b"
   },
   "outputs": [
    {
     "data": {
      "text/plain": [
       "tensor([1, 1, 1, 1, 1, 1, 1, 1, 1, 1, 1, 1, 1, 1, 1, 1, 2, 2, 2, 2, 2, 2, 2, 2,\n",
       "        2, 2, 2, 2, 2, 2, 2, 2, 3, 3, 3, 3, 3, 3, 3, 3, 3, 3, 3, 3, 3, 3, 3, 3])"
      ]
     },
     "execution_count": 63,
     "metadata": {},
     "output_type": "execute_result"
    }
   ],
   "source": [
    "batch.reshape(-1)"
   ]
  },
  {
   "cell_type": "code",
   "execution_count": 64,
   "metadata": {
    "colab": {
     "base_uri": "https://localhost:8080/"
    },
    "id": "xhuMfK8bbdHv",
    "outputId": "f896cb76-31c7-4cd3-8bf9-d6ddcd800bd6"
   },
   "outputs": [
    {
     "data": {
      "text/plain": [
       "tensor([1, 1, 1, 1, 1, 1, 1, 1, 1, 1, 1, 1, 1, 1, 1, 1, 2, 2, 2, 2, 2, 2, 2, 2,\n",
       "        2, 2, 2, 2, 2, 2, 2, 2, 3, 3, 3, 3, 3, 3, 3, 3, 3, 3, 3, 3, 3, 3, 3, 3])"
      ]
     },
     "execution_count": 64,
     "metadata": {},
     "output_type": "execute_result"
    }
   ],
   "source": [
    "batch.reshape(batch.numel())"
   ]
  },
  {
   "cell_type": "code",
   "execution_count": null,
   "metadata": {
    "colab": {
     "base_uri": "https://localhost:8080/"
    },
    "id": "uHzdEKkCbfO1",
    "outputId": "edf2d84e-0389-42e3-a083-9a40b5c44f04"
   },
   "outputs": [
    {
     "data": {
      "text/plain": [
       "tensor([1, 1, 1, 1, 1, 1, 1, 1, 1, 1, 1, 1, 1, 1, 1, 1, 2, 2, 2, 2, 2, 2, 2, 2,\n",
       "        2, 2, 2, 2, 2, 2, 2, 2, 3, 3, 3, 3, 3, 3, 3, 3, 3, 3, 3, 3, 3, 3, 3, 3])"
      ]
     },
     "execution_count": 90,
     "metadata": {},
     "output_type": "execute_result"
    }
   ],
   "source": [
    "batch.flatten()"
   ]
  },
  {
   "cell_type": "code",
   "execution_count": null,
   "metadata": {
    "colab": {
     "base_uri": "https://localhost:8080/"
    },
    "id": "ZtkS6A-XbgnE",
    "outputId": "a98848a8-adee-499d-f8c5-db61c8c92f7b"
   },
   "outputs": [
    {
     "data": {
      "text/plain": [
       "tensor([[[1, 1, 1, 1, 1, 1, 1, 1, 1, 1, 1, 1, 1, 1, 1, 1]],\n",
       "\n",
       "        [[2, 2, 2, 2, 2, 2, 2, 2, 2, 2, 2, 2, 2, 2, 2, 2]],\n",
       "\n",
       "        [[3, 3, 3, 3, 3, 3, 3, 3, 3, 3, 3, 3, 3, 3, 3, 3]]])"
      ]
     },
     "execution_count": 91,
     "metadata": {},
     "output_type": "execute_result"
    }
   ],
   "source": [
    "batch.reshape(3, 1, -1)"
   ]
  },
  {
   "cell_type": "code",
   "execution_count": null,
   "metadata": {
    "colab": {
     "base_uri": "https://localhost:8080/"
    },
    "id": "gNYlTLmbbh3w",
    "outputId": "6f42c19e-ed2a-4d50-828a-ccff1a5e29aa"
   },
   "outputs": [
    {
     "data": {
      "text/plain": [
       "tensor([[1, 1, 1, 1, 1, 1, 1, 1, 1, 1, 1, 1, 1, 1, 1, 1],\n",
       "        [2, 2, 2, 2, 2, 2, 2, 2, 2, 2, 2, 2, 2, 2, 2, 2],\n",
       "        [3, 3, 3, 3, 3, 3, 3, 3, 3, 3, 3, 3, 3, 3, 3, 3]])"
      ]
     },
     "execution_count": 92,
     "metadata": {},
     "output_type": "execute_result"
    }
   ],
   "source": [
    "batch.reshape(3, -1)"
   ]
  },
  {
   "cell_type": "code",
   "execution_count": null,
   "metadata": {
    "colab": {
     "base_uri": "https://localhost:8080/"
    },
    "id": "k9G4CsBQbkB5",
    "outputId": "604b7d4a-d54e-43d7-d60d-82500a976c1f"
   },
   "outputs": [
    {
     "data": {
      "text/plain": [
       "tensor([[1, 1, 1, 1, 1, 1, 1, 1, 1, 1, 1, 1, 1, 1, 1, 1],\n",
       "        [2, 2, 2, 2, 2, 2, 2, 2, 2, 2, 2, 2, 2, 2, 2, 2],\n",
       "        [3, 3, 3, 3, 3, 3, 3, 3, 3, 3, 3, 3, 3, 3, 3, 3]])"
      ]
     },
     "execution_count": 93,
     "metadata": {},
     "output_type": "execute_result"
    }
   ],
   "source": [
    "batch.flatten(start_dim = 1)"
   ]
  },
  {
   "cell_type": "code",
   "execution_count": 65,
   "metadata": {
    "id": "RPtAXmj0bmzo"
   },
   "outputs": [],
   "source": [
    "t1 = torch.tensor([\n",
    "    [1, 2],\n",
    "    [3, 4]\n",
    "], dtype=torch.float32)\n",
    "\n",
    "t2 = torch.tensor([\n",
    "    [5, 6],\n",
    "    [7, 8]\n",
    "], dtype=torch.float32)"
   ]
  },
  {
   "cell_type": "code",
   "execution_count": 66,
   "metadata": {
    "colab": {
     "base_uri": "https://localhost:8080/"
    },
    "id": "vJ4IbQstbp63",
    "outputId": "f8897615-2c2e-41d8-ea2f-171d0ecd242e"
   },
   "outputs": [
    {
     "data": {
      "text/plain": [
       "tensor([[ 6.,  8.],\n",
       "        [10., 12.]])"
      ]
     },
     "execution_count": 66,
     "metadata": {},
     "output_type": "execute_result"
    }
   ],
   "source": [
    "t1 + t2"
   ]
  },
  {
   "cell_type": "code",
   "execution_count": 67,
   "metadata": {
    "colab": {
     "base_uri": "https://localhost:8080/"
    },
    "id": "cGAKeqYEbrYQ",
    "outputId": "20616474-b4ad-488c-ac33-4206627fbe3f"
   },
   "outputs": [
    {
     "data": {
      "text/plain": [
       "tensor([[3., 4.],\n",
       "        [5., 6.]])"
      ]
     },
     "execution_count": 67,
     "metadata": {},
     "output_type": "execute_result"
    }
   ],
   "source": [
    "t1 + 2"
   ]
  },
  {
   "cell_type": "code",
   "execution_count": 68,
   "metadata": {
    "colab": {
     "base_uri": "https://localhost:8080/"
    },
    "id": "hn7BrZZ-bsOp",
    "outputId": "081f1e30-e956-49e2-b816-c083e24209e8"
   },
   "outputs": [
    {
     "data": {
      "text/plain": [
       "tensor([[-1.,  0.],\n",
       "        [ 1.,  2.]])"
      ]
     },
     "execution_count": 68,
     "metadata": {},
     "output_type": "execute_result"
    }
   ],
   "source": [
    "t1 - 2"
   ]
  },
  {
   "cell_type": "code",
   "execution_count": 69,
   "metadata": {
    "colab": {
     "base_uri": "https://localhost:8080/"
    },
    "id": "5f6wLaEKbtRD",
    "outputId": "76d82c56-e94e-44e4-e866-000379d9af82"
   },
   "outputs": [
    {
     "name": "stdout",
     "output_type": "stream",
     "text": [
      "tensor([[3., 4.],\n",
      "        [5., 6.]])\n",
      "tensor([[-1.,  0.],\n",
      "        [ 1.,  2.]])\n",
      "tensor([[2., 4.],\n",
      "        [6., 8.]])\n",
      "tensor([[0.5000, 1.0000],\n",
      "        [1.5000, 2.0000]])\n"
     ]
    }
   ],
   "source": [
    "print(t1.add(2))\n",
    "\n",
    "print(t1.sub(2))\n",
    "\n",
    "print(t1.mul(2))\n",
    "\n",
    "print(t1.div(2))"
   ]
  },
  {
   "cell_type": "code",
   "execution_count": 70,
   "metadata": {
    "id": "1sfkzJDFbuPR"
   },
   "outputs": [],
   "source": [
    "t = torch.tensor([\n",
    "    [0, 5, 7],\n",
    "    [6, 0, 7],\n",
    "    [0, 8, 0]\n",
    "], dtype=torch.float32)"
   ]
  },
  {
   "cell_type": "code",
   "execution_count": 71,
   "metadata": {
    "colab": {
     "base_uri": "https://localhost:8080/"
    },
    "id": "jMGw8hKkbv-G",
    "outputId": "52ee52ef-f00e-422f-e075-a46bcb65f377"
   },
   "outputs": [
    {
     "data": {
      "text/plain": [
       "tensor([[ True, False, False],\n",
       "        [False,  True, False],\n",
       "        [ True, False,  True]])"
      ]
     },
     "execution_count": 71,
     "metadata": {},
     "output_type": "execute_result"
    }
   ],
   "source": [
    "t.eq(0)"
   ]
  },
  {
   "cell_type": "code",
   "execution_count": 72,
   "metadata": {
    "colab": {
     "base_uri": "https://localhost:8080/"
    },
    "id": "iDE1y__RbxAX",
    "outputId": "a9439b26-ecb6-467c-dbbc-be0636f46840"
   },
   "outputs": [
    {
     "data": {
      "text/plain": [
       "tensor([[True, True, True],\n",
       "        [True, True, True],\n",
       "        [True, True, True]])"
      ]
     },
     "execution_count": 72,
     "metadata": {},
     "output_type": "execute_result"
    }
   ],
   "source": [
    "t.ge(0)"
   ]
  },
  {
   "cell_type": "code",
   "execution_count": 73,
   "metadata": {
    "colab": {
     "base_uri": "https://localhost:8080/"
    },
    "id": "VeDyNnfWby2t",
    "outputId": "e940315a-809b-42a1-b933-ea887b916425"
   },
   "outputs": [
    {
     "data": {
      "text/plain": [
       "tensor([[ True,  True,  True],\n",
       "        [ True,  True,  True],\n",
       "        [ True, False,  True]])"
      ]
     },
     "execution_count": 73,
     "metadata": {},
     "output_type": "execute_result"
    }
   ],
   "source": [
    "t.le(7)"
   ]
  },
  {
   "cell_type": "code",
   "execution_count": 74,
   "metadata": {
    "colab": {
     "base_uri": "https://localhost:8080/"
    },
    "id": "NwA5UP6Nb0DF",
    "outputId": "5746f08e-b215-449e-9d16-c04f42201c8c"
   },
   "outputs": [
    {
     "data": {
      "text/plain": [
       "tensor([[0., 5., 7.],\n",
       "        [6., 0., 7.],\n",
       "        [0., 8., 0.]])"
      ]
     },
     "execution_count": 74,
     "metadata": {},
     "output_type": "execute_result"
    }
   ],
   "source": [
    "t.abs()"
   ]
  },
  {
   "cell_type": "code",
   "execution_count": 75,
   "metadata": {
    "colab": {
     "base_uri": "https://localhost:8080/"
    },
    "id": "ajfQ4OmFb1Io",
    "outputId": "7e3e9bb9-82f9-479b-bdb6-33f10010520d"
   },
   "outputs": [
    {
     "data": {
      "text/plain": [
       "tensor([[0.0000, 2.2361, 2.6458],\n",
       "        [2.4495, 0.0000, 2.6458],\n",
       "        [0.0000, 2.8284, 0.0000]])"
      ]
     },
     "execution_count": 75,
     "metadata": {},
     "output_type": "execute_result"
    }
   ],
   "source": [
    "t.sqrt()"
   ]
  },
  {
   "cell_type": "code",
   "execution_count": 76,
   "metadata": {
    "id": "48Gr4WFRb2CG"
   },
   "outputs": [],
   "source": [
    "t = torch.tensor([\n",
    "    [0, 5, 7],\n",
    "    [6, 0, 7],\n",
    "    [0, 8, 0]\n",
    "], dtype=torch.float32)"
   ]
  },
  {
   "cell_type": "code",
   "execution_count": 77,
   "metadata": {
    "colab": {
     "base_uri": "https://localhost:8080/"
    },
    "id": "mmMEyu1Ub4HW",
    "outputId": "1a801640-aa94-43dc-9b04-f893c3b01b0a"
   },
   "outputs": [
    {
     "data": {
      "text/plain": [
       "tensor(33.)"
      ]
     },
     "execution_count": 77,
     "metadata": {},
     "output_type": "execute_result"
    }
   ],
   "source": [
    "t.sum()"
   ]
  },
  {
   "cell_type": "code",
   "execution_count": 78,
   "metadata": {
    "colab": {
     "base_uri": "https://localhost:8080/"
    },
    "id": "scadJcDib5Kg",
    "outputId": "08fdf9ad-7a30-47d5-e345-dac4b43e6d68"
   },
   "outputs": [
    {
     "data": {
      "text/plain": [
       "tensor(0.)"
      ]
     },
     "execution_count": 78,
     "metadata": {},
     "output_type": "execute_result"
    }
   ],
   "source": [
    "t.prod()"
   ]
  },
  {
   "cell_type": "code",
   "execution_count": 79,
   "metadata": {
    "colab": {
     "base_uri": "https://localhost:8080/"
    },
    "id": "n6sr4i7ob6Ig",
    "outputId": "ba5c135e-16a1-4c32-d8e1-3d7a26178514"
   },
   "outputs": [
    {
     "data": {
      "text/plain": [
       "tensor(3.6667)"
      ]
     },
     "execution_count": 79,
     "metadata": {},
     "output_type": "execute_result"
    }
   ],
   "source": [
    "t.mean()"
   ]
  },
  {
   "cell_type": "code",
   "execution_count": 80,
   "metadata": {
    "colab": {
     "base_uri": "https://localhost:8080/"
    },
    "id": "385dendzb7NZ",
    "outputId": "adc03cc3-3bf7-4ddd-da53-7a423160c7f1"
   },
   "outputs": [
    {
     "data": {
      "text/plain": [
       "tensor(3.5707)"
      ]
     },
     "execution_count": 80,
     "metadata": {},
     "output_type": "execute_result"
    }
   ],
   "source": [
    "t.std()"
   ]
  },
  {
   "cell_type": "code",
   "execution_count": 81,
   "metadata": {
    "id": "txs7aEPzb9T_"
   },
   "outputs": [],
   "source": [
    "t = torch.tensor([\n",
    "  [1, 1, 1, 1],\n",
    "  [2, 2, 2, 2],\n",
    "  [3, 3, 3, 3],\n",
    "  [4, 4, 4, 4]\n",
    "])"
   ]
  },
  {
   "cell_type": "code",
   "execution_count": 82,
   "metadata": {
    "colab": {
     "base_uri": "https://localhost:8080/"
    },
    "id": "PRxiCkM2b-Mf",
    "outputId": "4985a598-d38a-4236-b90b-63ee2c23a93c"
   },
   "outputs": [
    {
     "data": {
      "text/plain": [
       "tensor([10, 10, 10, 10])"
      ]
     },
     "execution_count": 82,
     "metadata": {},
     "output_type": "execute_result"
    }
   ],
   "source": [
    "t.sum(dim=0)"
   ]
  },
  {
   "cell_type": "code",
   "execution_count": 83,
   "metadata": {
    "colab": {
     "base_uri": "https://localhost:8080/"
    },
    "id": "kwQla-Ocb_Lo",
    "outputId": "cfad7bf0-da47-482c-d62d-d8558d138b72"
   },
   "outputs": [
    {
     "data": {
      "text/plain": [
       "tensor([ 4,  8, 12, 16])"
      ]
     },
     "execution_count": 83,
     "metadata": {},
     "output_type": "execute_result"
    }
   ],
   "source": [
    "t.sum(dim=1)"
   ]
  },
  {
   "cell_type": "code",
   "execution_count": 84,
   "metadata": {
    "colab": {
     "base_uri": "https://localhost:8080/"
    },
    "id": "liZfCfN3cCGq",
    "outputId": "2e9553b1-4ced-456c-a499-552ceed07b37"
   },
   "outputs": [
    {
     "data": {
      "text/plain": [
       "(tensor(12), tensor(4))"
      ]
     },
     "execution_count": 84,
     "metadata": {},
     "output_type": "execute_result"
    }
   ],
   "source": [
    "t.argmax(), t.max()"
   ]
  },
  {
   "cell_type": "code",
   "execution_count": 85,
   "metadata": {
    "colab": {
     "base_uri": "https://localhost:8080/"
    },
    "id": "u9Gow7LZcEZF",
    "outputId": "ba46596e-f10b-48ef-f0a3-3df62d744f12"
   },
   "outputs": [
    {
     "data": {
      "text/plain": [
       "(tensor(0), tensor(1))"
      ]
     },
     "execution_count": 85,
     "metadata": {},
     "output_type": "execute_result"
    }
   ],
   "source": [
    "t.argmin(), t.min()"
   ]
  },
  {
   "cell_type": "code",
   "execution_count": 86,
   "metadata": {
    "colab": {
     "base_uri": "https://localhost:8080/"
    },
    "id": "VWqprggAcIjk",
    "outputId": "6a9b1791-2b93-47d5-b447-d0fc27b24edb"
   },
   "outputs": [
    {
     "data": {
      "text/plain": [
       "tensor([1, 1, 1, 1, 2, 2, 2, 2, 3, 3, 3, 3, 4, 4, 4, 4])"
      ]
     },
     "execution_count": 86,
     "metadata": {},
     "output_type": "execute_result"
    }
   ],
   "source": [
    "t.flatten()"
   ]
  },
  {
   "cell_type": "markdown",
   "metadata": {
    "id": "9nql5ZaPcM1t"
   },
   "source": [
    "# PyTorch Main\n",
    "\n",
    "# Working with the dataset\n",
    "\n",
    "We will look at convolutional/image examples as they allow us to get a good intuition on axises and are more complex to work on just 1D data\n",
    "\n",
    "### A common nn pipeline looks like this:\n",
    "1. Prepare the data\n",
    "2. Build the model\n",
    "3. Train the model\n",
    "4. Analyze the model"
   ]
  },
  {
   "cell_type": "code",
   "execution_count": 87,
   "metadata": {
    "id": "6J3ZGHBLcK0z"
   },
   "outputs": [],
   "source": [
    "import torch\n",
    "import torchvision # provide access to datasets, models, transforms, utils, etc\n",
    "import torchvision.transforms as transforms"
   ]
  },
  {
   "cell_type": "code",
   "execution_count": 89,
   "metadata": {
    "id": "KZMxb0FgcR_k"
   },
   "outputs": [],
   "source": [
    "\n",
    "from torch.utils.data import Dataset\n",
    "\n",
    "class Animals(Dataset):\n",
    "  def __init__(self, csv_file):\n",
    "    self.data = pd.read_csv(csv_file)\n",
    "\n",
    "  def __getitem__(self, index):\n",
    "    r = self.data.iloc[index]\n",
    "    label, image = r\n",
    "    return label, image\n",
    "\n",
    "  def __len__(self):\n",
    "    return len(self.data)"
   ]
  },
  {
   "cell_type": "code",
   "execution_count": 90,
   "metadata": {
    "colab": {
     "base_uri": "https://localhost:8080/"
    },
    "id": "UBbc2704cTdQ",
    "outputId": "eb8ff2ff-9ba6-4501-f09d-b7c2356bad8d"
   },
   "outputs": [
    {
     "name": "stdout",
     "output_type": "stream",
     "text": [
      "Downloading http://fashion-mnist.s3-website.eu-central-1.amazonaws.com/train-images-idx3-ubyte.gz\n",
      "Downloading http://fashion-mnist.s3-website.eu-central-1.amazonaws.com/train-images-idx3-ubyte.gz to ./data/FashionMNIST/raw/train-images-idx3-ubyte.gz\n"
     ]
    },
    {
     "name": "stderr",
     "output_type": "stream",
     "text": [
      "100%|██████████| 26421880/26421880 [00:02<00:00, 11915682.18it/s]\n"
     ]
    },
    {
     "name": "stdout",
     "output_type": "stream",
     "text": [
      "Extracting ./data/FashionMNIST/raw/train-images-idx3-ubyte.gz to ./data/FashionMNIST/raw\n",
      "\n",
      "Downloading http://fashion-mnist.s3-website.eu-central-1.amazonaws.com/train-labels-idx1-ubyte.gz\n",
      "Downloading http://fashion-mnist.s3-website.eu-central-1.amazonaws.com/train-labels-idx1-ubyte.gz to ./data/FashionMNIST/raw/train-labels-idx1-ubyte.gz\n"
     ]
    },
    {
     "name": "stderr",
     "output_type": "stream",
     "text": [
      "100%|██████████| 29515/29515 [00:00<00:00, 200760.72it/s]\n"
     ]
    },
    {
     "name": "stdout",
     "output_type": "stream",
     "text": [
      "Extracting ./data/FashionMNIST/raw/train-labels-idx1-ubyte.gz to ./data/FashionMNIST/raw\n",
      "\n",
      "Downloading http://fashion-mnist.s3-website.eu-central-1.amazonaws.com/t10k-images-idx3-ubyte.gz\n",
      "Downloading http://fashion-mnist.s3-website.eu-central-1.amazonaws.com/t10k-images-idx3-ubyte.gz to ./data/FashionMNIST/raw/t10k-images-idx3-ubyte.gz\n"
     ]
    },
    {
     "name": "stderr",
     "output_type": "stream",
     "text": [
      "100%|██████████| 4422102/4422102 [00:01<00:00, 3749510.55it/s]\n"
     ]
    },
    {
     "name": "stdout",
     "output_type": "stream",
     "text": [
      "Extracting ./data/FashionMNIST/raw/t10k-images-idx3-ubyte.gz to ./data/FashionMNIST/raw\n",
      "\n",
      "Downloading http://fashion-mnist.s3-website.eu-central-1.amazonaws.com/t10k-labels-idx1-ubyte.gz\n",
      "Downloading http://fashion-mnist.s3-website.eu-central-1.amazonaws.com/t10k-labels-idx1-ubyte.gz to ./data/FashionMNIST/raw/t10k-labels-idx1-ubyte.gz\n"
     ]
    },
    {
     "name": "stderr",
     "output_type": "stream",
     "text": [
      "100%|██████████| 5148/5148 [00:00<00:00, 6002857.10it/s]"
     ]
    },
    {
     "name": "stdout",
     "output_type": "stream",
     "text": [
      "Extracting ./data/FashionMNIST/raw/t10k-labels-idx1-ubyte.gz to ./data/FashionMNIST/raw\n",
      "\n"
     ]
    },
    {
     "name": "stderr",
     "output_type": "stream",
     "text": [
      "\n"
     ]
    }
   ],
   "source": [
    "# now let's work with FashionMnist\n",
    "\n",
    "train_set = torchvision.datasets.FashionMNIST(\n",
    "    root='./data'\n",
    "    ,train=True\n",
    "    ,download=True\n",
    "    ,transform=transforms.Compose([\n",
    "        transforms.ToTensor()\n",
    "    ])\n",
    ")\n",
    "\n"
   ]
  },
  {
   "cell_type": "code",
   "execution_count": 91,
   "metadata": {
    "colab": {
     "base_uri": "https://localhost:8080/"
    },
    "id": "jNRuV2tlcl-r",
    "outputId": "e04963b3-429f-4d89-8862-3c00df12a969"
   },
   "outputs": [
    {
     "data": {
      "text/plain": [
       "1"
      ]
     },
     "execution_count": 91,
     "metadata": {},
     "output_type": "execute_result"
    }
   ],
   "source": [
    "x = iter(range(10))\n",
    "next(x)\n",
    "next(x)"
   ]
  },
  {
   "cell_type": "code",
   "execution_count": 92,
   "metadata": {
    "colab": {
     "base_uri": "https://localhost:8080/"
    },
    "id": "nzbgjRjccvR8",
    "outputId": "101aa6c0-d860-4b5e-9875-7231f08fd9b0"
   },
   "outputs": [
    {
     "data": {
      "text/plain": [
       "2"
      ]
     },
     "execution_count": 92,
     "metadata": {},
     "output_type": "execute_result"
    }
   ],
   "source": [
    "next(x)"
   ]
  },
  {
   "cell_type": "code",
   "execution_count": 93,
   "metadata": {
    "colab": {
     "base_uri": "https://localhost:8080/"
    },
    "id": "_SZPV7hsc1Mi",
    "outputId": "f6805960-78d3-4fc2-f3c7-2946039c6fea"
   },
   "outputs": [
    {
     "data": {
      "text/plain": [
       "9"
      ]
     },
     "execution_count": 93,
     "metadata": {},
     "output_type": "execute_result"
    }
   ],
   "source": [
    "next(iter(train_set))[1]"
   ]
  },
  {
   "cell_type": "code",
   "execution_count": 94,
   "metadata": {
    "colab": {
     "base_uri": "https://localhost:8080/"
    },
    "id": "Rqr9lVodc9WH",
    "outputId": "139276a3-d274-4b1f-cb4d-8fdd91cdf1bd"
   },
   "outputs": [
    {
     "name": "stdout",
     "output_type": "stream",
     "text": [
      "9\n",
      "0\n",
      "0\n",
      "3\n",
      "0\n",
      "2\n"
     ]
    }
   ],
   "source": [
    "i = 0\n",
    "\n",
    "for j in train_set:\n",
    "  print(j[1])\n",
    "  i+= 1\n",
    "  if i > 5:\n",
    "    break"
   ]
  },
  {
   "cell_type": "code",
   "execution_count": 95,
   "metadata": {
    "id": "52TaHARvdUOz"
   },
   "outputs": [],
   "source": [
    "train_loader = torch.utils.data.DataLoader(train_set\n",
    "    ,batch_size=32\n",
    "    ,shuffle=True\n",
    ")"
   ]
  },
  {
   "cell_type": "code",
   "execution_count": 96,
   "metadata": {
    "colab": {
     "base_uri": "https://localhost:8080/"
    },
    "id": "-dqwkQEndjMr",
    "outputId": "90baf2ac-c884-425c-94c4-166ac8223b58"
   },
   "outputs": [
    {
     "data": {
      "text/plain": [
       "tensor([0, 7, 3, 8, 6, 2, 9, 3, 3, 4, 4, 4, 3, 9, 7, 0, 3, 5, 7, 0, 5, 5, 8, 1,\n",
       "        3, 0, 7, 7, 3, 3, 5, 1])"
      ]
     },
     "execution_count": 96,
     "metadata": {},
     "output_type": "execute_result"
    }
   ],
   "source": [
    "next(iter(train_loader))[1]"
   ]
  },
  {
   "cell_type": "code",
   "execution_count": 97,
   "metadata": {
    "id": "mlJLj5bmdsLB"
   },
   "outputs": [],
   "source": [
    "import numpy as np\n",
    "import matplotlib.pyplot as plt\n",
    "\n",
    "torch.set_printoptions(linewidth=120)"
   ]
  },
  {
   "cell_type": "code",
   "execution_count": 98,
   "metadata": {
    "colab": {
     "base_uri": "https://localhost:8080/"
    },
    "id": "TPAjAchHduJ1",
    "outputId": "64c99311-a7b6-4293-bd8f-6663cd211433"
   },
   "outputs": [
    {
     "data": {
      "text/plain": [
       "60000"
      ]
     },
     "execution_count": 98,
     "metadata": {},
     "output_type": "execute_result"
    }
   ],
   "source": [
    "len(train_set)"
   ]
  },
  {
   "cell_type": "code",
   "execution_count": 99,
   "metadata": {
    "colab": {
     "base_uri": "https://localhost:8080/"
    },
    "id": "8WOYQOP2dvIQ",
    "outputId": "c4a49aa8-9bd7-4f31-cffc-cbe7250cb73d"
   },
   "outputs": [
    {
     "name": "stderr",
     "output_type": "stream",
     "text": [
      "/usr/local/lib/python3.10/dist-packages/torchvision/datasets/mnist.py:65: UserWarning: train_labels has been renamed targets\n",
      "  warnings.warn(\"train_labels has been renamed targets\")\n"
     ]
    },
    {
     "data": {
      "text/plain": [
       "tensor([9, 0, 0,  ..., 3, 0, 5])"
      ]
     },
     "execution_count": 99,
     "metadata": {},
     "output_type": "execute_result"
    }
   ],
   "source": [
    "train_set.train_labels"
   ]
  },
  {
   "cell_type": "code",
   "execution_count": 100,
   "metadata": {
    "colab": {
     "base_uri": "https://localhost:8080/"
    },
    "id": "FVkuTDo4dwIr",
    "outputId": "ff12ae5a-4960-46ce-884c-32c00881f546"
   },
   "outputs": [
    {
     "data": {
      "text/plain": [
       "tensor([6000, 6000, 6000, 6000, 6000, 6000, 6000, 6000, 6000, 6000])"
      ]
     },
     "execution_count": 100,
     "metadata": {},
     "output_type": "execute_result"
    }
   ],
   "source": [
    "train_set.train_labels.bincount() #frequency of each label, we have balanced class here"
   ]
  },
  {
   "cell_type": "code",
   "execution_count": 101,
   "metadata": {
    "colab": {
     "base_uri": "https://localhost:8080/"
    },
    "id": "fNhdV5GSdyVc",
    "outputId": "61359872-d34b-4425-c6c3-e909da3f2d2c"
   },
   "outputs": [
    {
     "data": {
      "text/plain": [
       "2"
      ]
     },
     "execution_count": 101,
     "metadata": {},
     "output_type": "execute_result"
    }
   ],
   "source": [
    "sample = next(iter(train_set))\n",
    "\n",
    "len(sample)"
   ]
  },
  {
   "cell_type": "code",
   "execution_count": 102,
   "metadata": {
    "id": "QGwvVpICd1f7"
   },
   "outputs": [],
   "source": [
    "image, label = sample"
   ]
  },
  {
   "cell_type": "code",
   "execution_count": 103,
   "metadata": {
    "colab": {
     "base_uri": "https://localhost:8080/",
     "height": 448
    },
    "id": "-35mUBIad9CW",
    "outputId": "2ccbac46-fb3f-4056-ad27-8a8523dc845a"
   },
   "outputs": [
    {
     "name": "stdout",
     "output_type": "stream",
     "text": [
      "label: 9\n"
     ]
    },
    {
     "data": {
      "image/png": "[encoded data removed]",
      "text/plain": [
       "<Figure size 640x480 with 1 Axes>"
      ]
     },
     "metadata": {},
     "output_type": "display_data"
    }
   ],
   "source": [
    "plt.imshow(image.squeeze(), cmap='gray')\n",
    "print('label:', label)"
   ]
  },
  {
   "cell_type": "code",
   "execution_count": 105,
   "metadata": {
    "colab": {
     "base_uri": "https://localhost:8080/"
    },
    "id": "Ivo7Q2p_d-Lw",
    "outputId": "aeeb2f87-b5fa-453c-d4ab-91d591df1c94"
   },
   "outputs": [
    {
     "data": {
      "text/plain": [
       "(2, list)"
      ]
     },
     "execution_count": 105,
     "metadata": {},
     "output_type": "execute_result"
    }
   ],
   "source": [
    "batch = next(iter(train_loader))\n",
    "\n",
    "len(batch), type(batch)"
   ]
  },
  {
   "cell_type": "code",
   "execution_count": 106,
   "metadata": {
    "id": "a5E3-JebeBR_"
   },
   "outputs": [],
   "source": [
    "images, labels = batch"
   ]
  },
  {
   "cell_type": "code",
   "execution_count": 107,
   "metadata": {
    "colab": {
     "base_uri": "https://localhost:8080/"
    },
    "id": "-uxNoP_leDVh",
    "outputId": "03f899a9-d90d-478a-a1ec-414756c79754"
   },
   "outputs": [
    {
     "data": {
      "text/plain": [
       "(torch.Size([32, 1, 28, 28]), torch.Size([32]))"
      ]
     },
     "execution_count": 107,
     "metadata": {},
     "output_type": "execute_result"
    }
   ],
   "source": [
    "images.shape, labels.shape"
   ]
  },
  {
   "cell_type": "code",
   "execution_count": 108,
   "metadata": {
    "colab": {
     "base_uri": "https://localhost:8080/",
     "height": 551
    },
    "id": "00GSZBrGeEzd",
    "outputId": "51c9dfc6-4634-46e1-f097-82076beabd18"
   },
   "outputs": [
    {
     "name": "stdout",
     "output_type": "stream",
     "text": [
      "labels: tensor([2, 9, 7, 5, 9, 5, 5, 5, 6, 5, 3, 8, 4, 1, 2, 5, 5, 6, 2, 5, 8, 9, 0, 8, 4, 2, 6, 5, 6, 2, 0, 4])\n"
     ]
    },
    {
     "data": {
      "image/png": "[encoded data removed]",
      "text/plain": [
       "<Figure size 1500x1500 with 1 Axes>"
      ]
     },
     "metadata": {},
     "output_type": "display_data"
    }
   ],
   "source": [
    "grid = torchvision.utils.make_grid(images, nrow=10)\n",
    "plt.figure(figsize=(15,15))\n",
    "plt.imshow(np.transpose(grid, (1,2,0)))\n",
    "print('labels:', labels)"
   ]
  },
  {
   "cell_type": "markdown",
   "metadata": {
    "id": "mevZ8iowmJww"
   },
   "source": [
    "# Network"
   ]
  },
  {
   "cell_type": "code",
   "execution_count": 130,
   "metadata": {
    "id": "K8ug2YPwmHcy"
   },
   "outputs": [],
   "source": [
    "import torch.nn as nn\n",
    "\n",
    "class Network(nn.Module):\n",
    "  def __init__(self):\n",
    "    super().__init__()\n",
    "    self.layer = None\n",
    "\n",
    "  def forward(self, t):\n",
    "    t = self.layer(t)\n",
    "    return t"
   ]
  },
  {
   "cell_type": "code",
   "execution_count": 131,
   "metadata": {
    "id": "RBdNAZWmmeuU"
   },
   "outputs": [],
   "source": [
    "class Network(nn.Module):\n",
    "  def __init__(self):\n",
    "    super().__init__()\n",
    "\n",
    "    # input 28 # output 24 # receptive_field = 5\n",
    "    self.conv1 = nn.Conv2d(in_channels=1, out_channels=6, kernel_size=5)\n",
    "    # input 24 # output 20 # receptive_field = 9\n",
    "    self.conv2 = nn.Conv2d(in_channels=6, out_channels=12, kernel_size=5)\n",
    "    # input 12x20x20, output 120\n",
    "    # input 10*512\n",
    "    self.fc1 = nn.Linear(in_features=12*20*20, out_features=120)\n",
    "    self.fc2 = nn.Linear(in_features=120, out_features=60)\n",
    "    self.out = nn.Linear(in_features=60, out_features=10)\n",
    "\n",
    "  def forward(self, t):\n",
    "    return t\n"
   ]
  },
  {
   "cell_type": "code",
   "execution_count": 132,
   "metadata": {
    "colab": {
     "base_uri": "https://localhost:8080/"
    },
    "id": "XpWW2SgEoXIz",
    "outputId": "72116851-045e-4659-f90d-13f00a10298b"
   },
   "outputs": [
    {
     "name": "stdout",
     "output_type": "stream",
     "text": [
      "Network(\n",
      "  (conv1): Conv2d(1, 6, kernel_size=(5, 5), stride=(1, 1))\n",
      "  (conv2): Conv2d(6, 12, kernel_size=(5, 5), stride=(1, 1))\n",
      "  (fc1): Linear(in_features=4800, out_features=120, bias=True)\n",
      "  (fc2): Linear(in_features=120, out_features=60, bias=True)\n",
      "  (out): Linear(in_features=60, out_features=10, bias=True)\n",
      ")\n"
     ]
    }
   ],
   "source": [
    "network = Network()\n",
    "\n",
    "print(network)"
   ]
  },
  {
   "cell_type": "code",
   "execution_count": 133,
   "metadata": {
    "colab": {
     "base_uri": "https://localhost:8080/"
    },
    "id": "9bYhX9QFojj0",
    "outputId": "4b473e76-2866-4200-99d0-8921ef39b05f"
   },
   "outputs": [
    {
     "data": {
      "text/plain": [
       "Linear(in_features=120, out_features=60, bias=True)"
      ]
     },
     "execution_count": 133,
     "metadata": {},
     "output_type": "execute_result"
    }
   ],
   "source": [
    "network.fc2"
   ]
  },
  {
   "cell_type": "code",
   "execution_count": 135,
   "metadata": {
    "colab": {
     "base_uri": "https://localhost:8080/"
    },
    "id": "cK-aLFquozh8",
    "outputId": "c62ac13b-59c5-4746-f31b-c96721918975"
   },
   "outputs": [
    {
     "data": {
      "text/plain": [
       "Parameter containing:\n",
       "tensor([[-1.7164e-02, -1.7785e-02, -4.5266e-02,  ...,  6.0335e-02,  2.5874e-03,  5.4247e-02],\n",
       "        [-1.0665e-02,  2.2288e-02,  7.4271e-02,  ..., -7.9571e-05, -7.0857e-02,  4.3869e-02],\n",
       "        [ 8.7493e-02, -4.4496e-02,  4.2562e-02,  ...,  2.2945e-02, -3.6152e-02,  3.8852e-02],\n",
       "        ...,\n",
       "        [-1.3806e-02, -5.8908e-02, -8.6249e-02,  ...,  5.4885e-02,  6.8410e-02,  8.0916e-02],\n",
       "        [ 1.2011e-02,  5.4195e-02,  1.2305e-02,  ..., -1.3278e-02, -5.8868e-03,  4.1560e-02],\n",
       "        [-2.0924e-02, -7.3790e-02,  8.7524e-02,  ...,  5.4942e-02, -9.1076e-02,  8.2167e-02]], requires_grad=True)"
      ]
     },
     "execution_count": 135,
     "metadata": {},
     "output_type": "execute_result"
    }
   ],
   "source": [
    "network.fc2.weight"
   ]
  },
  {
   "cell_type": "code",
   "execution_count": 136,
   "metadata": {
    "colab": {
     "base_uri": "https://localhost:8080/"
    },
    "id": "8kIhdz9Yo16i",
    "outputId": "07098f30-ab07-4006-d0e3-50c69ee5923e"
   },
   "outputs": [
    {
     "data": {
      "text/plain": [
       "torch.Size([60, 120])"
      ]
     },
     "execution_count": 136,
     "metadata": {},
     "output_type": "execute_result"
    }
   ],
   "source": [
    "network.fc2.weight.shape"
   ]
  },
  {
   "cell_type": "code",
   "execution_count": 137,
   "metadata": {
    "colab": {
     "base_uri": "https://localhost:8080/"
    },
    "id": "Y7gcCEIOo6Z4",
    "outputId": "f12d983e-aa4c-439b-f508-68e7f7017123"
   },
   "outputs": [
    {
     "name": "stdout",
     "output_type": "stream",
     "text": [
      "conv1.weight \t\t torch.Size([6, 1, 5, 5])\n",
      "conv1.bias \t\t torch.Size([6])\n",
      "conv2.weight \t\t torch.Size([12, 6, 5, 5])\n",
      "conv2.bias \t\t torch.Size([12])\n",
      "fc1.weight \t\t torch.Size([120, 4800])\n",
      "fc1.bias \t\t torch.Size([120])\n",
      "fc2.weight \t\t torch.Size([60, 120])\n",
      "fc2.bias \t\t torch.Size([60])\n",
      "out.weight \t\t torch.Size([10, 60])\n",
      "out.bias \t\t torch.Size([10])\n"
     ]
    }
   ],
   "source": [
    "class Network(nn.Module):\n",
    "  def __init__(self):\n",
    "    super().__init__()\n",
    "    self.conv1 = nn.Conv2d(in_channels=1, out_channels=6, kernel_size=5)\n",
    "    self.conv2 = nn.Conv2d(in_channels=6, out_channels=12, kernel_size=5)\n",
    "    self.fc1 = nn.Linear(in_features=12*20*20, out_features=120)\n",
    "    self.fc2 = nn.Linear(in_features=120, out_features=60)\n",
    "    self.out = nn.Linear(in_features=60, out_features=10)\n",
    "\n",
    "  def forward(self, t):\n",
    "    # TODO implement this\n",
    "    return t\n",
    "\n",
    "network = Network()\n",
    "\n",
    "for name, param in network.named_parameters():\n",
    "  print(name, '\\t\\t', param.shape)"
   ]
  },
  {
   "cell_type": "code",
   "execution_count": 138,
   "metadata": {
    "id": "3hedZaC_p6lM"
   },
   "outputs": [],
   "source": [
    "import torch.nn.functional as F"
   ]
  },
  {
   "cell_type": "code",
   "execution_count": 139,
   "metadata": {
    "id": "YnK_wtlXpL_U"
   },
   "outputs": [],
   "source": [
    "\n",
    "class Network(nn.Module):\n",
    "  def __init__(self):\n",
    "    super().__init__()\n",
    "    self.conv1 = nn.Conv2d(in_channels=1, out_channels=6, kernel_size=5)\n",
    "    self.conv2 = nn.Conv2d(in_channels=6, out_channels=12, kernel_size=5)\n",
    "    self.fc1 = nn.Linear(in_features=12 * 4 * 4, out_features=120)\n",
    "    self.fc2 = nn.Linear(in_features=120, out_features=60)\n",
    "    self.out = nn.Linear(in_features=60, out_features=10)\n",
    "\n",
    "  def forward(self, t):\n",
    "    # input layer\n",
    "    x = t\n",
    "\n",
    "    # conv1 layer\n",
    "    x = self.conv1(x)\n",
    "    x = F.relu(x)\n",
    "    x = F.max_pool2d(x, kernel_size=2, stride=2) # 28 | 24 | 12\n",
    "\n",
    "    # conv2 layer\n",
    "    x = self.conv2(x)\n",
    "    x = F.relu(x)\n",
    "    x = F.max_pool2d(x, kernel_size=2, stride=2) # 12 | 8 | 4 >> 12x4x4\n",
    "\n",
    "    # reshapre\n",
    "    x = x.reshape(-1, 12 * 4 * 4)\n",
    "\n",
    "    # fc1 layer\n",
    "    x = self.fc1(x)\n",
    "    x = F.relu(x)\n",
    "\n",
    "    # fc2 layer\n",
    "    x = self.fc2(x)\n",
    "    x = F.relu(x)\n",
    "\n",
    "    # output layer\n",
    "    x = self.out(x)\n",
    "    # x = F.softmax(x, dim=1)\n",
    "    return x"
   ]
  },
  {
   "cell_type": "code",
   "execution_count": 140,
   "metadata": {
    "colab": {
     "base_uri": "https://localhost:8080/"
    },
    "id": "mavLsWbPrIQo",
    "outputId": "a144f961-4f5f-418f-810c-ef2d9f774289"
   },
   "outputs": [
    {
     "data": {
      "text/plain": [
       "<torch.autograd.grad_mode.set_grad_enabled at 0x7f200877e6e0>"
      ]
     },
     "execution_count": 140,
     "metadata": {},
     "output_type": "execute_result"
    }
   ],
   "source": [
    "torch.set_grad_enabled(False)"
   ]
  },
  {
   "cell_type": "code",
   "execution_count": 141,
   "metadata": {
    "colab": {
     "base_uri": "https://localhost:8080/"
    },
    "id": "BrzVJPUrrNok",
    "outputId": "b5ddfc58-f6ba-4599-b61a-9d12b3fd9733"
   },
   "outputs": [
    {
     "data": {
      "text/plain": [
       "(torch.Size([1, 28, 28]), torch.Size([1, 1, 28, 28]))"
      ]
     },
     "execution_count": 141,
     "metadata": {},
     "output_type": "execute_result"
    }
   ],
   "source": [
    "sample = next(iter(train_set))\n",
    "image, label = sample\n",
    "image.shape, image.unsqueeze(0).shape\n"
   ]
  },
  {
   "cell_type": "code",
   "execution_count": 142,
   "metadata": {
    "id": "6tUOGvywrVPw"
   },
   "outputs": [],
   "source": [
    "network = Network()"
   ]
  },
  {
   "cell_type": "code",
   "execution_count": 143,
   "metadata": {
    "id": "CnjP6a-jrfKA"
   },
   "outputs": [],
   "source": [
    "pred = network(image)"
   ]
  },
  {
   "cell_type": "code",
   "execution_count": null,
   "metadata": {
    "colab": {
     "base_uri": "https://localhost:8080/"
    },
    "id": "IaPqJnc6rgeO",
    "outputId": "e63660af-bff6-42f1-a943-9551eda218ff"
   },
   "outputs": [
    {
     "name": "stderr",
     "output_type": "stream",
     "text": [
      "/usr/local/lib/python3.7/dist-packages/torch/nn/functional.py:718: UserWarning: Named tensors and all their associated APIs are an experimental feature and subject to change. Please do not use them for anything important until they are released as stable. (Triggered internally at  /pytorch/c10/core/TensorImpl.h:1156.)\n",
      "  return torch.max_pool2d(input, kernel_size, stride, padding, dilation, ceil_mode)\n"
     ]
    }
   ],
   "source": [
    "pred = network(image.unsqueeze(0))"
   ]
  },
  {
   "cell_type": "code",
   "execution_count": 144,
   "metadata": {
    "colab": {
     "base_uri": "https://localhost:8080/"
    },
    "id": "CuAeqkIurkuD",
    "outputId": "a7d68435-07a1-49f1-b10a-ec6e2038fe91"
   },
   "outputs": [
    {
     "data": {
      "text/plain": [
       "(tensor([[ 0.0447,  0.0225,  0.0450,  0.1364,  0.1130,  0.0266, -0.0213,  0.0394, -0.0870,  0.0761]]),\n",
       " torch.Size([1, 10]),\n",
       " 9)"
      ]
     },
     "execution_count": 144,
     "metadata": {},
     "output_type": "execute_result"
    }
   ],
   "source": [
    "pred, pred.shape, label"
   ]
  },
  {
   "cell_type": "code",
   "execution_count": 145,
   "metadata": {
    "colab": {
     "base_uri": "https://localhost:8080/"
    },
    "id": "g8I4oCthrmpL",
    "outputId": "23686b7a-d70f-40e2-829c-b9161eedd17c"
   },
   "outputs": [
    {
     "data": {
      "text/plain": [
       "tensor([3])"
      ]
     },
     "execution_count": 145,
     "metadata": {},
     "output_type": "execute_result"
    }
   ],
   "source": [
    "pred.argmax(dim=1)"
   ]
  },
  {
   "cell_type": "code",
   "execution_count": 146,
   "metadata": {
    "colab": {
     "base_uri": "https://localhost:8080/"
    },
    "id": "cFcQ_dKUrt_0",
    "outputId": "da0ef86b-fa6c-4d22-dba4-a9b178b89f6c"
   },
   "outputs": [
    {
     "data": {
      "text/plain": [
       "tensor([[0.1003, 0.0981, 0.1004, 0.1100, 0.1074, 0.0985, 0.0939, 0.0998, 0.0880, 0.1035]])"
      ]
     },
     "execution_count": 146,
     "metadata": {},
     "output_type": "execute_result"
    }
   ],
   "source": [
    "F.softmax(pred, dim=1)"
   ]
  },
  {
   "cell_type": "code",
   "execution_count": 147,
   "metadata": {
    "colab": {
     "base_uri": "https://localhost:8080/"
    },
    "id": "E9mzAGucryYr",
    "outputId": "05e8d5fd-2d58-42f8-a237-6230d66008f6"
   },
   "outputs": [
    {
     "data": {
      "text/plain": [
       "tensor(1.)"
      ]
     },
     "execution_count": 147,
     "metadata": {},
     "output_type": "execute_result"
    }
   ],
   "source": [
    "F.softmax(pred, dim=1).sum()"
   ]
  },
  {
   "cell_type": "code",
   "execution_count": 148,
   "metadata": {
    "id": "X1ATL3nNr401"
   },
   "outputs": [],
   "source": [
    "data_loader = torch.utils.data.DataLoader(\n",
    "    train_set,\n",
    "    batch_size=10\n",
    ")"
   ]
  },
  {
   "cell_type": "code",
   "execution_count": 149,
   "metadata": {
    "colab": {
     "base_uri": "https://localhost:8080/"
    },
    "id": "b7p9d0QEr_0h",
    "outputId": "f50f0540-d8e9-4129-f717-527762965ae1"
   },
   "outputs": [
    {
     "data": {
      "text/plain": [
       "10"
      ]
     },
     "execution_count": 149,
     "metadata": {},
     "output_type": "execute_result"
    }
   ],
   "source": [
    "batch = next(iter(data_loader))\n",
    "len(batch[0])"
   ]
  },
  {
   "cell_type": "code",
   "execution_count": 150,
   "metadata": {
    "colab": {
     "base_uri": "https://localhost:8080/"
    },
    "id": "qd_32lC5sEHw",
    "outputId": "cf4d3871-fe2a-4de6-ef3a-7ec395ece326"
   },
   "outputs": [
    {
     "data": {
      "text/plain": [
       "torch.Size([10, 10])"
      ]
     },
     "execution_count": 150,
     "metadata": {},
     "output_type": "execute_result"
    }
   ],
   "source": [
    "images, labels = batch\n",
    "\n",
    "preds = network(images)\n",
    "preds.shape"
   ]
  },
  {
   "cell_type": "code",
   "execution_count": 151,
   "metadata": {
    "colab": {
     "base_uri": "https://localhost:8080/"
    },
    "id": "NBZJHfo6sOFj",
    "outputId": "2c6d7629-372a-497e-bdc4-bc90f5336a36"
   },
   "outputs": [
    {
     "data": {
      "text/plain": [
       "tensor([[ 0.0447,  0.0225,  0.0450,  0.1364,  0.1130,  0.0266, -0.0213,  0.0394, -0.0870,  0.0761],\n",
       "        [ 0.0434,  0.0296,  0.0507,  0.1351,  0.1205,  0.0131, -0.0185,  0.0326, -0.0808,  0.0907],\n",
       "        [ 0.0423,  0.0223,  0.0433,  0.1365,  0.1139,  0.0233, -0.0304,  0.0341, -0.0706,  0.0822],\n",
       "        [ 0.0412,  0.0259,  0.0468,  0.1344,  0.1150,  0.0181, -0.0238,  0.0335, -0.0734,  0.0851],\n",
       "        [ 0.0414,  0.0273,  0.0446,  0.1329,  0.1212,  0.0165, -0.0229,  0.0374, -0.0809,  0.0860],\n",
       "        [ 0.0429,  0.0264,  0.0479,  0.1410,  0.1176,  0.0158, -0.0201,  0.0356, -0.0800,  0.0863],\n",
       "        [ 0.0364,  0.0280,  0.0511,  0.1392,  0.1155,  0.0227, -0.0263,  0.0375, -0.0808,  0.0887],\n",
       "        [ 0.0410,  0.0264,  0.0471,  0.1391,  0.1171,  0.0193, -0.0145,  0.0416, -0.0898,  0.0817],\n",
       "        [ 0.0473,  0.0234,  0.0445,  0.1335,  0.1124,  0.0270, -0.0282,  0.0372, -0.0690,  0.0866],\n",
       "        [ 0.0478,  0.0209,  0.0548,  0.1408,  0.1117,  0.0349, -0.0226,  0.0355, -0.0718,  0.0911]])"
      ]
     },
     "execution_count": 151,
     "metadata": {},
     "output_type": "execute_result"
    }
   ],
   "source": [
    "preds"
   ]
  },
  {
   "cell_type": "code",
   "execution_count": 152,
   "metadata": {
    "colab": {
     "base_uri": "https://localhost:8080/"
    },
    "id": "CDaO68OMsQUP",
    "outputId": "bff82f19-a6ab-48b2-ca77-161020d7cd2a"
   },
   "outputs": [
    {
     "data": {
      "text/plain": [
       "tensor([3, 3, 3, 3, 3, 3, 3, 3, 3, 3])"
      ]
     },
     "execution_count": 152,
     "metadata": {},
     "output_type": "execute_result"
    }
   ],
   "source": [
    "preds.argmax(dim=1)"
   ]
  },
  {
   "cell_type": "code",
   "execution_count": 153,
   "metadata": {
    "colab": {
     "base_uri": "https://localhost:8080/"
    },
    "id": "zuTswW5OsUYx",
    "outputId": "f458dd47-a4ae-47bd-c8a7-d48ea9e8c358"
   },
   "outputs": [
    {
     "data": {
      "text/plain": [
       "tensor([False, False, False,  True, False, False, False, False, False, False])"
      ]
     },
     "execution_count": 153,
     "metadata": {},
     "output_type": "execute_result"
    }
   ],
   "source": [
    "preds.argmax(dim=1).eq(labels)"
   ]
  },
  {
   "cell_type": "code",
   "execution_count": 154,
   "metadata": {
    "id": "MkAoo1TSsY_n"
   },
   "outputs": [],
   "source": [
    "def get_num_correct(preds, labels):\n",
    "  return preds.argmax(dim=1).eq(labels).sum().item()"
   ]
  },
  {
   "cell_type": "code",
   "execution_count": 155,
   "metadata": {
    "colab": {
     "base_uri": "https://localhost:8080/"
    },
    "id": "7mPdMYMAsfzz",
    "outputId": "37d40b3d-676b-4a5c-aacd-88acff98d628"
   },
   "outputs": [
    {
     "data": {
      "text/plain": [
       "1"
      ]
     },
     "execution_count": 155,
     "metadata": {},
     "output_type": "execute_result"
    }
   ],
   "source": [
    "get_num_correct(preds, labels)"
   ]
  },
  {
   "cell_type": "code",
   "execution_count": 156,
   "metadata": {
    "colab": {
     "base_uri": "https://localhost:8080/"
    },
    "id": "o4FA7R14sgxn",
    "outputId": "b0b1f65f-b95a-406c-821a-6a0fce2cedd8"
   },
   "outputs": [
    {
     "data": {
      "text/plain": [
       "<torch.autograd.grad_mode.set_grad_enabled at 0x7f200877fd30>"
      ]
     },
     "execution_count": 156,
     "metadata": {},
     "output_type": "execute_result"
    }
   ],
   "source": [
    "import torch.optim as optim\n",
    "\n",
    "torch.set_grad_enabled(True)"
   ]
  },
  {
   "cell_type": "code",
   "execution_count": 157,
   "metadata": {
    "colab": {
     "base_uri": "https://localhost:8080/"
    },
    "id": "BCv0o0Amsnsx",
    "outputId": "3af00991-04c9-409b-d9c5-cef13c739850"
   },
   "outputs": [
    {
     "data": {
      "text/plain": [
       "2.2922511100769043"
      ]
     },
     "execution_count": 157,
     "metadata": {},
     "output_type": "execute_result"
    }
   ],
   "source": [
    "preds = network(images)\n",
    "loss = F.cross_entropy(preds, labels)\n",
    "loss.item()"
   ]
  },
  {
   "cell_type": "code",
   "execution_count": 158,
   "metadata": {
    "colab": {
     "base_uri": "https://localhost:8080/"
    },
    "id": "1L4YXdens0ZO",
    "outputId": "b352b19d-d0a4-4adc-88c4-2bd7c37e029b"
   },
   "outputs": [
    {
     "name": "stdout",
     "output_type": "stream",
     "text": [
      "None\n"
     ]
    }
   ],
   "source": [
    "print(network.conv1.weight.grad)"
   ]
  },
  {
   "cell_type": "code",
   "execution_count": 159,
   "metadata": {
    "id": "Ua8Bk2iLs4R8"
   },
   "outputs": [],
   "source": [
    "loss.backward()"
   ]
  },
  {
   "cell_type": "code",
   "execution_count": 160,
   "metadata": {
    "colab": {
     "base_uri": "https://localhost:8080/"
    },
    "id": "9cyGaFpcs8Qa",
    "outputId": "f28eb354-5c84-466a-964d-9a75acfc77e6"
   },
   "outputs": [
    {
     "name": "stdout",
     "output_type": "stream",
     "text": [
      "tensor([[[[ 2.3360e-04,  1.3193e-04, -6.0530e-04, -1.3681e-03,  3.7225e-04],\n",
      "          [-5.9428e-06,  3.8969e-04, -5.5649e-04, -1.6640e-04,  1.3596e-03],\n",
      "          [ 3.1910e-04,  8.4272e-04, -3.8327e-04,  3.9108e-05,  3.2600e-04],\n",
      "          [ 5.5687e-05,  2.8937e-04, -9.1186e-04, -4.2282e-04, -4.7891e-04],\n",
      "          [ 3.3808e-04,  6.9776e-04, -9.9882e-04, -6.4497e-04,  6.0370e-04]]],\n",
      "\n",
      "\n",
      "        [[[ 6.4609e-04,  2.1244e-04,  7.7361e-04,  3.1709e-03,  3.1273e-03],\n",
      "          [ 4.3798e-04, -2.5969e-05,  1.1678e-03,  3.1090e-03,  3.7618e-03],\n",
      "          [ 7.9611e-04, -3.5017e-04,  3.6575e-04,  3.3114e-03,  2.9999e-03],\n",
      "          [ 1.2090e-03,  1.6085e-04,  8.5662e-04,  4.1702e-03,  3.3431e-03],\n",
      "          [ 9.1415e-04,  6.2774e-04,  9.2169e-04,  4.6824e-03,  3.7430e-03]]],\n",
      "\n",
      "\n",
      "        [[[-3.0882e-03, -1.5204e-03, -1.4205e-04, -1.4978e-03, -2.1752e-03],\n",
      "          [-4.0801e-03, -2.0049e-03, -6.8783e-04, -9.6937e-04, -1.8410e-03],\n",
      "          [-3.8518e-03, -2.3991e-03, -2.5525e-03, -4.5823e-03, -4.6007e-03],\n",
      "          [-4.3995e-03, -3.5311e-03, -4.2615e-03, -3.9355e-03, -4.1025e-03],\n",
      "          [-3.3594e-03, -1.0466e-03, -1.8462e-03, -2.0302e-03, -2.7082e-03]]],\n",
      "\n",
      "\n",
      "        [[[ 2.8108e-04, -3.7704e-05,  9.0571e-07, -1.7378e-05, -2.0746e-04],\n",
      "          [ 3.5959e-04,  7.5043e-05, -4.6394e-06, -7.8625e-06, -5.4803e-04],\n",
      "          [ 7.7675e-04, -1.9430e-04,  3.8187e-05,  6.6144e-05, -2.0713e-04],\n",
      "          [ 8.4137e-04, -4.2005e-04,  1.2159e-04,  3.8666e-04, -1.5630e-04],\n",
      "          [ 1.0156e-03,  1.4675e-04,  1.0921e-04,  1.4971e-04, -3.8897e-04]]],\n",
      "\n",
      "\n",
      "        [[[ 2.7625e-03,  2.4720e-03,  1.3455e-03,  1.9392e-03,  2.8471e-03],\n",
      "          [ 3.9371e-03,  2.8979e-03,  3.3650e-03,  3.3997e-03,  5.1271e-03],\n",
      "          [ 2.2894e-03,  3.0986e-03,  2.8427e-03,  3.4997e-03,  3.0180e-03],\n",
      "          [ 3.4416e-03,  3.7386e-03,  2.0936e-03,  3.6457e-03,  4.1304e-03],\n",
      "          [ 3.9089e-03,  4.0744e-03,  3.3597e-03,  3.7862e-03,  4.2193e-03]]],\n",
      "\n",
      "\n",
      "        [[[ 0.0000e+00,  0.0000e+00, -3.9911e-05, -7.1146e-05, -1.4207e-04],\n",
      "          [-7.7796e-05, -3.4057e-04, -3.8214e-04, -3.9816e-04, -4.4561e-04],\n",
      "          [-1.4465e-04, -1.6683e-04, -1.6691e-04, -1.3885e-04, -1.2467e-04],\n",
      "          [ 0.0000e+00,  0.0000e+00, -3.4705e-06, -8.6763e-06,  5.9925e-05],\n",
      "          [-1.4836e-06, -5.4443e-06, -1.7353e-06,  0.0000e+00,  9.8058e-05]]]])\n"
     ]
    }
   ],
   "source": [
    "print(network.conv1.weight.grad)"
   ]
  },
  {
   "cell_type": "code",
   "execution_count": 161,
   "metadata": {
    "colab": {
     "base_uri": "https://localhost:8080/"
    },
    "id": "3Sx8OLQ4s942",
    "outputId": "2c020179-258c-489f-a716-cdc9ee71a38c"
   },
   "outputs": [
    {
     "name": "stdout",
     "output_type": "stream",
     "text": [
      "torch.Size([6, 1, 5, 5])\n"
     ]
    }
   ],
   "source": [
    "print(network.conv1.weight.grad.shape)"
   ]
  },
  {
   "cell_type": "code",
   "execution_count": 162,
   "metadata": {
    "id": "giKwqeVFtANj"
   },
   "outputs": [],
   "source": [
    "optimizer = optim.Adam(network.parameters(), lr = 0.01)"
   ]
  },
  {
   "cell_type": "code",
   "execution_count": 163,
   "metadata": {
    "colab": {
     "base_uri": "https://localhost:8080/"
    },
    "id": "CsNRSp9BtObv",
    "outputId": "ec397f1c-988f-4be4-86a6-955a55a80865"
   },
   "outputs": [
    {
     "data": {
      "text/plain": [
       "(2.2922511100769043, 1)"
      ]
     },
     "execution_count": 163,
     "metadata": {},
     "output_type": "execute_result"
    }
   ],
   "source": [
    "loss.item(), get_num_correct(preds, labels)"
   ]
  },
  {
   "cell_type": "code",
   "execution_count": 164,
   "metadata": {
    "id": "L2wlQvdKtagG"
   },
   "outputs": [],
   "source": [
    "optimizer.step()"
   ]
  },
  {
   "cell_type": "code",
   "execution_count": 165,
   "metadata": {
    "colab": {
     "base_uri": "https://localhost:8080/"
    },
    "id": "G2-QHmhXtg3k",
    "outputId": "9cce6a8a-4b5f-4818-df38-29f08faaf53e"
   },
   "outputs": [
    {
     "data": {
      "text/plain": [
       "(2.1835150718688965, 2)"
      ]
     },
     "execution_count": 165,
     "metadata": {},
     "output_type": "execute_result"
    }
   ],
   "source": [
    "preds = network(images)\n",
    "loss = F.cross_entropy(preds, labels)\n",
    "loss.item(), get_num_correct(preds, labels)"
   ]
  },
  {
   "cell_type": "code",
   "execution_count": 166,
   "metadata": {
    "colab": {
     "base_uri": "https://localhost:8080/"
    },
    "id": "wTc3OYqMtnry",
    "outputId": "850303e6-6360-443e-caf6-bf232fad1f12"
   },
   "outputs": [
    {
     "data": {
      "text/plain": [
       "(1.9540050029754639, 3)"
      ]
     },
     "execution_count": 166,
     "metadata": {},
     "output_type": "execute_result"
    }
   ],
   "source": [
    "loss.backward()\n",
    "optimizer.step()\n",
    "preds = network(images)\n",
    "loss = F.cross_entropy(preds, labels)\n",
    "loss.item(), get_num_correct(preds, labels)"
   ]
  },
  {
   "cell_type": "code",
   "execution_count": 167,
   "metadata": {
    "colab": {
     "base_uri": "https://localhost:8080/"
    },
    "id": "nOSONZBVtxsH",
    "outputId": "00218128-59cf-46f9-d7b3-63deb80cf140"
   },
   "outputs": [
    {
     "data": {
      "text/plain": [
       "(1.8370282649993896, 3)"
      ]
     },
     "execution_count": 167,
     "metadata": {},
     "output_type": "execute_result"
    }
   ],
   "source": [
    "loss.backward()\n",
    "optimizer.step()\n",
    "preds = network(images)\n",
    "loss = F.cross_entropy(preds, labels)\n",
    "loss.item(), get_num_correct(preds, labels)"
   ]
  },
  {
   "cell_type": "code",
   "execution_count": 168,
   "metadata": {
    "colab": {
     "base_uri": "https://localhost:8080/"
    },
    "id": "VEhpQi4atzd3",
    "outputId": "80356375-1239-4e62-8f14-510a5294518b"
   },
   "outputs": [
    {
     "data": {
      "text/plain": [
       "(2.155139446258545, 3)"
      ]
     },
     "execution_count": 168,
     "metadata": {},
     "output_type": "execute_result"
    }
   ],
   "source": [
    "loss.backward()\n",
    "optimizer.step()\n",
    "preds = network(images)\n",
    "loss = F.cross_entropy(preds, labels)\n",
    "loss.item(), get_num_correct(preds, labels)"
   ]
  },
  {
   "cell_type": "code",
   "execution_count": 169,
   "metadata": {
    "colab": {
     "base_uri": "https://localhost:8080/"
    },
    "id": "klXXTlrSt0un",
    "outputId": "eac9537c-2b88-49ea-bfdc-2891da7e9c6c"
   },
   "outputs": [
    {
     "data": {
      "text/plain": [
       "(2.155139446258545, 3)"
      ]
     },
     "execution_count": 169,
     "metadata": {},
     "output_type": "execute_result"
    }
   ],
   "source": [
    "loss.backward()\n",
    "optimizer.zero_grad()\n",
    "optimizer.step()\n",
    "preds = network(images)\n",
    "loss = F.cross_entropy(preds, labels)\n",
    "loss.item(), get_num_correct(preds, labels)"
   ]
  },
  {
   "cell_type": "code",
   "execution_count": 170,
   "metadata": {
    "colab": {
     "base_uri": "https://localhost:8080/"
    },
    "id": "9ThYn6D8t4L7",
    "outputId": "46dd6991-d341-4ace-ec06-78afe0e2d498"
   },
   "outputs": [
    {
     "data": {
      "text/plain": [
       "(2.155139446258545, 3)"
      ]
     },
     "execution_count": 170,
     "metadata": {},
     "output_type": "execute_result"
    }
   ],
   "source": [
    "loss.backward()\n",
    "optimizer.zero_grad()\n",
    "optimizer.step()\n",
    "preds = network(images)\n",
    "loss = F.cross_entropy(preds, labels)\n",
    "loss.item(), get_num_correct(preds, labels)"
   ]
  },
  {
   "cell_type": "code",
   "execution_count": 171,
   "metadata": {
    "colab": {
     "base_uri": "https://localhost:8080/"
    },
    "id": "fUHrLmkNuBrd",
    "outputId": "627f86a8-8aa1-447e-b71d-db47d76da6be"
   },
   "outputs": [
    {
     "data": {
      "text/plain": [
       "(2.155139446258545, 3)"
      ]
     },
     "execution_count": 171,
     "metadata": {},
     "output_type": "execute_result"
    }
   ],
   "source": [
    "loss.backward()\n",
    "optimizer.zero_grad()\n",
    "optimizer.step()\n",
    "preds = network(images)\n",
    "loss = F.cross_entropy(preds, labels)\n",
    "loss.item(), get_num_correct(preds, labels)"
   ]
  },
  {
   "cell_type": "code",
   "execution_count": 172,
   "metadata": {
    "colab": {
     "base_uri": "https://localhost:8080/"
    },
    "id": "ESTNpebquCdw",
    "outputId": "9c7f38cd-b88e-4694-c748-0ed7c5322c46"
   },
   "outputs": [
    {
     "data": {
      "text/plain": [
       "(2.155139446258545, 3)"
      ]
     },
     "execution_count": 172,
     "metadata": {},
     "output_type": "execute_result"
    }
   ],
   "source": [
    "loss.backward()\n",
    "optimizer.zero_grad()\n",
    "optimizer.step()\n",
    "preds = network(images)\n",
    "loss = F.cross_entropy(preds, labels)\n",
    "loss.item(), get_num_correct(preds, labels)"
   ]
  },
  {
   "cell_type": "code",
   "execution_count": 173,
   "metadata": {
    "colab": {
     "base_uri": "https://localhost:8080/"
    },
    "id": "WXoTk904uDGn",
    "outputId": "036a8710-12a5-4155-db3a-255db06b5fe2"
   },
   "outputs": [
    {
     "data": {
      "text/plain": [
       "(2.155139446258545, 3)"
      ]
     },
     "execution_count": 173,
     "metadata": {},
     "output_type": "execute_result"
    }
   ],
   "source": [
    "loss.backward()\n",
    "optimizer.zero_grad()\n",
    "optimizer.step()\n",
    "preds = network(images)\n",
    "loss = F.cross_entropy(preds, labels)\n",
    "loss.item(), get_num_correct(preds, labels)"
   ]
  },
  {
   "cell_type": "code",
   "execution_count": 174,
   "metadata": {
    "colab": {
     "base_uri": "https://localhost:8080/"
    },
    "id": "XulSZUWyuEE1",
    "outputId": "96696a4c-8615-4c86-a64a-7d30778f1135"
   },
   "outputs": [
    {
     "data": {
      "text/plain": [
       "(2.155139446258545, 3)"
      ]
     },
     "execution_count": 174,
     "metadata": {},
     "output_type": "execute_result"
    }
   ],
   "source": [
    "loss.backward()\n",
    "optimizer.zero_grad()\n",
    "optimizer.step()\n",
    "preds = network(images)\n",
    "loss = F.cross_entropy(preds, labels)\n",
    "loss.item(), get_num_correct(preds, labels)"
   ]
  },
  {
   "cell_type": "code",
   "execution_count": 175,
   "metadata": {
    "colab": {
     "base_uri": "https://localhost:8080/"
    },
    "id": "f5dwoC5uuE6X",
    "outputId": "7972f8c6-c993-4412-a9d1-c1ccd2644303"
   },
   "outputs": [
    {
     "name": "stdout",
     "output_type": "stream",
     "text": [
      "loss1: 2.3107738494873047\n",
      "loss2: 2.2824089527130127\n"
     ]
    }
   ],
   "source": [
    "network = Network()\n",
    "\n",
    "train_loader = torch.utils.data.DataLoader(train_set, batch_size=100)\n",
    "optimizer = optim.Adam(network.parameters(), lr=0.01)\n",
    "\n",
    "batch = next(iter(train_loader)) # Get Batch\n",
    "images, labels = batch\n",
    "\n",
    "preds = network(images) # Pass Batch\n",
    "loss = F.cross_entropy(preds, labels) # Calculate Loss\n",
    "\n",
    "loss.backward() # Calculate Gradients\n",
    "optimizer.step() # Update Weights\n",
    "\n",
    "print('loss1:', loss.item())\n",
    "preds = network(images)\n",
    "loss = F.cross_entropy(preds, labels)\n",
    "print('loss2:', loss.item())"
   ]
  },
  {
   "cell_type": "code",
   "execution_count": 176,
   "metadata": {
    "colab": {
     "base_uri": "https://localhost:8080/"
    },
    "id": "EoYaS93qv2rP",
    "outputId": "af9f09e5-2663-443f-dc6b-55b853014917"
   },
   "outputs": [
    {
     "data": {
      "text/plain": [
       "<torch.autograd.grad_mode.set_grad_enabled at 0x7f200877cac0>"
      ]
     },
     "execution_count": 176,
     "metadata": {},
     "output_type": "execute_result"
    }
   ],
   "source": [
    "torch.set_grad_enabled(False)\n",
    "torch.set_grad_enabled(True)"
   ]
  },
  {
   "cell_type": "code",
   "execution_count": 177,
   "metadata": {
    "colab": {
     "base_uri": "https://localhost:8080/"
    },
    "id": "29_OqQ7WuV4o",
    "outputId": "1eb335ed-8b58-4034-8982-25dd12b1a7bb"
   },
   "outputs": [
    {
     "name": "stdout",
     "output_type": "stream",
     "text": [
      "epoch: 0 total_correct: 48246 loss: 316.4815360158682\n"
     ]
    }
   ],
   "source": [
    "network = Network()\n",
    "\n",
    "train_loader = torch.utils.data.DataLoader(train_set, batch_size=100)\n",
    "optimizer = optim.Adam(network.parameters(), lr=0.01)\n",
    "\n",
    "total_loss = 0\n",
    "total_correct = 0\n",
    "\n",
    "for batch in train_loader: # Get Batch\n",
    "    images, labels = batch\n",
    "\n",
    "    preds = network(images) # Pass Batch\n",
    "    loss = F.cross_entropy(preds, labels) # Calculate Loss\n",
    "\n",
    "    optimizer.zero_grad()\n",
    "    loss.backward() # Calculate Gradients\n",
    "    optimizer.step() # Update Weights\n",
    "\n",
    "    total_loss += loss.item()\n",
    "    total_correct += get_num_correct(preds, labels)\n",
    "\n",
    "print(\n",
    "    \"epoch:\", 0,\n",
    "    \"total_correct:\", total_correct,\n",
    "    \"loss:\", total_loss\n",
    ")"
   ]
  },
  {
   "cell_type": "code",
   "execution_count": 178,
   "metadata": {
    "colab": {
     "base_uri": "https://localhost:8080/"
    },
    "id": "3YGUVZipvu9a",
    "outputId": "4e18bf62-d39f-4cc5-ec62-69feb03da576"
   },
   "outputs": [
    {
     "name": "stdout",
     "output_type": "stream",
     "text": [
      "epoch 0 total_correct: 51724 loss: 223.30063296854496\n",
      "epoch 1 total_correct: 52409 loss: 205.43521435558796\n",
      "epoch 2 total_correct: 52677 loss: 197.67283871024847\n",
      "epoch 3 total_correct: 52947 loss: 192.1689790636301\n",
      "epoch 4 total_correct: 53033 loss: 187.209258928895\n",
      "epoch 5 total_correct: 53170 loss: 185.1781872957945\n",
      "epoch 6 total_correct: 53363 loss: 180.69259826093912\n",
      "epoch 7 total_correct: 53555 loss: 175.09800805151463\n",
      "epoch 8 total_correct: 53449 loss: 176.43138624727726\n",
      "epoch 9 total_correct: 53473 loss: 179.51558858156204\n"
     ]
    }
   ],
   "source": [
    "train_loader = torch.utils.data.DataLoader(train_set, batch_size=100)\n",
    "optimizer = optim.Adam(network.parameters(), lr=0.01)\n",
    "\n",
    "for epoch in range(10):\n",
    "\n",
    "    total_loss = 0\n",
    "    total_correct = 0\n",
    "\n",
    "    for batch in train_loader: # Get Batch\n",
    "        images, labels = batch\n",
    "\n",
    "        preds = network(images) # Pass Batch\n",
    "        loss = F.cross_entropy(preds, labels) # Calculate Loss\n",
    "\n",
    "        optimizer.zero_grad()\n",
    "        loss.backward() # Calculate Gradients\n",
    "        optimizer.step() # Update Weights\n",
    "\n",
    "        total_loss += loss.item()\n",
    "        total_correct += get_num_correct(preds, labels)\n",
    "\n",
    "    print(\n",
    "        \"epoch\", epoch,\n",
    "        \"total_correct:\", total_correct,\n",
    "        \"loss:\", total_loss\n",
    "    )"
   ]
  },
  {
   "cell_type": "markdown",
   "metadata": {
    "id": "7DTmTFyr18ck"
   },
   "source": [
    "Conv2 >> 12 * 4 * 4\n",
    "Conv2.reshape >> 192\n",
    "random_number input >> 10\n",
    "fc_rn (10, 20) >> 20\n",
    "concat_data = concatenation (192, 20)\n",
    "combined_data >> 212\n",
    "fc2(212) >> 100 << fc2_output\n",
    "Approach 1\n",
    "fc3(100) >> 10 + 19 OR 10 + 5 << out\n",
    "fc3(100) >> 19 OR 15 << out\n",
    "Approach 2\n",
    "fc3(fc2_output) >> 10 << MNIST VALUE\n",
    "fc4(fc2_output) >> 19/5 << SUM VALUE\n",
    "return MNIST_VALUE, SUM_VALUE\n",
    "\n",
    "return out\n",
    "\n",
    "loss_for_mnist out[:10]\n",
    "loss_for_sum out[10:]"
   ]
  },
  {
   "cell_type": "code",
   "execution_count": null,
   "metadata": {
    "colab": {
     "base_uri": "https://localhost:8080/",
     "height": 421
    },
    "id": "EOO49F5m9hQw",
    "outputId": "b3b8a2d1-3946-4234-f9ba-1e6142eb7d33"
   },
   "outputs": [
    {
     "data": {
      "image/png": "[encoded data removed]",
      "text/plain": [
       "<IPython.core.display.Image object>"
      ]
     },
     "execution_count": 6,
     "metadata": {},
     "output_type": "execute_result"
    }
   ],
   "source": [
    "from IPython.display import Image\n",
    "Image(open('/content/gdrive/MyDrive/ERA V2/PytorchGraphs.gif', 'rb').read())"
   ]
  }
 ],
 "metadata": {
  "accelerator": "GPU",
  "colab": {
   "provenance": []
  },
  "kernelspec": {
   "display_name": "Python 3 (ipykernel)",
   "language": "python",
   "name": "python3"
  },
  "language_info": {
   "codemirror_mode": {
    "name": "ipython",
    "version": 3
   },
   "file_extension": ".py",
   "mimetype": "text/x-python",
   "name": "python",
   "nbconvert_exporter": "python",
   "pygments_lexer": "ipython3",
   "version": "3.12.2"
  }
 },
 "nbformat": 4,
 "nbformat_minor": 4
}
